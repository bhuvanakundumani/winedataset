{
  "nbformat": 4,
  "nbformat_minor": 0,
  "metadata": {
    "colab": {
      "name": "Wine_NN",
      "version": "0.3.2",
      "provenance": [],
      "collapsed_sections": []
    },
    "kernelspec": {
      "name": "python3",
      "display_name": "Python 3"
    }
  },
  "cells": [
    {
      "cell_type": "code",
      "metadata": {
        "id": "DmYcgzc5fRgw",
        "colab_type": "code",
        "colab": {}
      },
      "source": [
        "%reload_ext autoreload\n",
        "%autoreload 2\n",
        "%matplotlib inline"
      ],
      "execution_count": 0,
      "outputs": []
    },
    {
      "cell_type": "code",
      "metadata": {
        "id": "4fEPYKlCfZw4",
        "colab_type": "code",
        "colab": {}
      },
      "source": [
        "import pandas as pd\n",
        "import seaborn as sns\n",
        "import matplotlib.pyplot as plt"
      ],
      "execution_count": 0,
      "outputs": []
    },
    {
      "cell_type": "code",
      "metadata": {
        "id": "o0za6wqU6joT",
        "colab_type": "code",
        "colab": {
          "base_uri": "https://localhost:8080/",
          "height": 34
        },
        "outputId": "78f8754d-2aa6-4194-8b86-52c500d1afbb"
      },
      "source": [
        "# Importing the necessary libraries!\n",
        "from sklearn.model_selection import train_test_split\n",
        "import keras\n",
        "from keras.models import Sequential\n",
        "from keras.layers import Dense, Dropout\n",
        "import numpy as np\n",
        "from keras import Sequential\n",
        "from keras.layers import Dense"
      ],
      "execution_count": 3,
      "outputs": [
        {
          "output_type": "stream",
          "text": [
            "Using TensorFlow backend.\n"
          ],
          "name": "stderr"
        }
      ]
    },
    {
      "cell_type": "markdown",
      "metadata": {
        "id": "10PqzG0X578N",
        "colab_type": "text"
      },
      "source": [
        "# WHITE WINE - PREDICTION OF QUALITY USING NEURAL NETWORKS\n",
        "\n"
      ]
    },
    {
      "cell_type": "code",
      "metadata": {
        "id": "fLPzipsFxHn1",
        "colab_type": "code",
        "colab": {}
      },
      "source": [
        "# Loading Dataset to a pandas dataframe\n",
        "df_white = pd.read_csv(\n",
        "    'http://archive.ics.uci.edu/ml/machine-learning-databases/wine-quality/winequality-white.csv', delimiter=\";\")"
      ],
      "execution_count": 0,
      "outputs": []
    },
    {
      "cell_type": "code",
      "metadata": {
        "id": "pef-J8U1fhZH",
        "colab_type": "code",
        "outputId": "c3ed21ff-aea1-4a9d-d32c-4126458866b4",
        "colab": {
          "base_uri": "https://localhost:8080/",
          "height": 221
        }
      },
      "source": [
        "# Checking if the data has loaded properly!\n",
        "df_white.head()"
      ],
      "execution_count": 5,
      "outputs": [
        {
          "output_type": "execute_result",
          "data": {
            "text/html": [
              "<div>\n",
              "<style scoped>\n",
              "    .dataframe tbody tr th:only-of-type {\n",
              "        vertical-align: middle;\n",
              "    }\n",
              "\n",
              "    .dataframe tbody tr th {\n",
              "        vertical-align: top;\n",
              "    }\n",
              "\n",
              "    .dataframe thead th {\n",
              "        text-align: right;\n",
              "    }\n",
              "</style>\n",
              "<table border=\"1\" class=\"dataframe\">\n",
              "  <thead>\n",
              "    <tr style=\"text-align: right;\">\n",
              "      <th></th>\n",
              "      <th>fixed acidity</th>\n",
              "      <th>volatile acidity</th>\n",
              "      <th>citric acid</th>\n",
              "      <th>residual sugar</th>\n",
              "      <th>chlorides</th>\n",
              "      <th>free sulfur dioxide</th>\n",
              "      <th>total sulfur dioxide</th>\n",
              "      <th>density</th>\n",
              "      <th>pH</th>\n",
              "      <th>sulphates</th>\n",
              "      <th>alcohol</th>\n",
              "      <th>quality</th>\n",
              "    </tr>\n",
              "  </thead>\n",
              "  <tbody>\n",
              "    <tr>\n",
              "      <th>0</th>\n",
              "      <td>7.0</td>\n",
              "      <td>0.27</td>\n",
              "      <td>0.36</td>\n",
              "      <td>20.7</td>\n",
              "      <td>0.045</td>\n",
              "      <td>45.0</td>\n",
              "      <td>170.0</td>\n",
              "      <td>1.0010</td>\n",
              "      <td>3.00</td>\n",
              "      <td>0.45</td>\n",
              "      <td>8.8</td>\n",
              "      <td>6</td>\n",
              "    </tr>\n",
              "    <tr>\n",
              "      <th>1</th>\n",
              "      <td>6.3</td>\n",
              "      <td>0.30</td>\n",
              "      <td>0.34</td>\n",
              "      <td>1.6</td>\n",
              "      <td>0.049</td>\n",
              "      <td>14.0</td>\n",
              "      <td>132.0</td>\n",
              "      <td>0.9940</td>\n",
              "      <td>3.30</td>\n",
              "      <td>0.49</td>\n",
              "      <td>9.5</td>\n",
              "      <td>6</td>\n",
              "    </tr>\n",
              "    <tr>\n",
              "      <th>2</th>\n",
              "      <td>8.1</td>\n",
              "      <td>0.28</td>\n",
              "      <td>0.40</td>\n",
              "      <td>6.9</td>\n",
              "      <td>0.050</td>\n",
              "      <td>30.0</td>\n",
              "      <td>97.0</td>\n",
              "      <td>0.9951</td>\n",
              "      <td>3.26</td>\n",
              "      <td>0.44</td>\n",
              "      <td>10.1</td>\n",
              "      <td>6</td>\n",
              "    </tr>\n",
              "    <tr>\n",
              "      <th>3</th>\n",
              "      <td>7.2</td>\n",
              "      <td>0.23</td>\n",
              "      <td>0.32</td>\n",
              "      <td>8.5</td>\n",
              "      <td>0.058</td>\n",
              "      <td>47.0</td>\n",
              "      <td>186.0</td>\n",
              "      <td>0.9956</td>\n",
              "      <td>3.19</td>\n",
              "      <td>0.40</td>\n",
              "      <td>9.9</td>\n",
              "      <td>6</td>\n",
              "    </tr>\n",
              "    <tr>\n",
              "      <th>4</th>\n",
              "      <td>7.2</td>\n",
              "      <td>0.23</td>\n",
              "      <td>0.32</td>\n",
              "      <td>8.5</td>\n",
              "      <td>0.058</td>\n",
              "      <td>47.0</td>\n",
              "      <td>186.0</td>\n",
              "      <td>0.9956</td>\n",
              "      <td>3.19</td>\n",
              "      <td>0.40</td>\n",
              "      <td>9.9</td>\n",
              "      <td>6</td>\n",
              "    </tr>\n",
              "  </tbody>\n",
              "</table>\n",
              "</div>"
            ],
            "text/plain": [
              "   fixed acidity  volatile acidity  citric acid  residual sugar  chlorides  \\\n",
              "0            7.0              0.27         0.36            20.7      0.045   \n",
              "1            6.3              0.30         0.34             1.6      0.049   \n",
              "2            8.1              0.28         0.40             6.9      0.050   \n",
              "3            7.2              0.23         0.32             8.5      0.058   \n",
              "4            7.2              0.23         0.32             8.5      0.058   \n",
              "\n",
              "   free sulfur dioxide  total sulfur dioxide  density    pH  sulphates  \\\n",
              "0                 45.0                 170.0   1.0010  3.00       0.45   \n",
              "1                 14.0                 132.0   0.9940  3.30       0.49   \n",
              "2                 30.0                  97.0   0.9951  3.26       0.44   \n",
              "3                 47.0                 186.0   0.9956  3.19       0.40   \n",
              "4                 47.0                 186.0   0.9956  3.19       0.40   \n",
              "\n",
              "   alcohol  quality  \n",
              "0      8.8        6  \n",
              "1      9.5        6  \n",
              "2     10.1        6  \n",
              "3      9.9        6  \n",
              "4      9.9        6  "
            ]
          },
          "metadata": {
            "tags": []
          },
          "execution_count": 5
        }
      ]
    },
    {
      "cell_type": "code",
      "metadata": {
        "id": "kf6DXICffjr_",
        "colab_type": "code",
        "outputId": "3e715bc0-b8cf-48c3-d6a1-6959646e25a3",
        "colab": {
          "base_uri": "https://localhost:8080/",
          "height": 34
        }
      },
      "source": [
        " print('shape of the dataset:', df_white.shape)"
      ],
      "execution_count": 6,
      "outputs": [
        {
          "output_type": "stream",
          "text": [
            "shape of the dataset: (4898, 12)\n"
          ],
          "name": "stdout"
        }
      ]
    },
    {
      "cell_type": "code",
      "metadata": {
        "id": "eXexR38Mfn0y",
        "colab_type": "code",
        "colab": {
          "base_uri": "https://localhost:8080/",
          "height": 306
        },
        "outputId": "804d3b1b-33c7-45a7-a6f8-8348c80157f3"
      },
      "source": [
        "df_white.info()"
      ],
      "execution_count": 7,
      "outputs": [
        {
          "output_type": "stream",
          "text": [
            "<class 'pandas.core.frame.DataFrame'>\n",
            "RangeIndex: 4898 entries, 0 to 4897\n",
            "Data columns (total 12 columns):\n",
            "fixed acidity           4898 non-null float64\n",
            "volatile acidity        4898 non-null float64\n",
            "citric acid             4898 non-null float64\n",
            "residual sugar          4898 non-null float64\n",
            "chlorides               4898 non-null float64\n",
            "free sulfur dioxide     4898 non-null float64\n",
            "total sulfur dioxide    4898 non-null float64\n",
            "density                 4898 non-null float64\n",
            "pH                      4898 non-null float64\n",
            "sulphates               4898 non-null float64\n",
            "alcohol                 4898 non-null float64\n",
            "quality                 4898 non-null int64\n",
            "dtypes: float64(11), int64(1)\n",
            "memory usage: 459.3 KB\n"
          ],
          "name": "stdout"
        }
      ]
    },
    {
      "cell_type": "code",
      "metadata": {
        "id": "zF1UJg2KfsYX",
        "colab_type": "code",
        "colab": {
          "base_uri": "https://localhost:8080/",
          "height": 224
        },
        "outputId": "0b0774d1-0743-4af7-97f4-80d499b6515c"
      },
      "source": [
        "# Renaming the column headers without spaces in the names.\n",
        "df_white.rename(columns={'fixed acidity': 'fixed_acidity','citric acid':'citric_acid',\n",
        "                         'volatile acidity':'volatile_acidity','residual sugar':'residual_sugar',\n",
        "                         'free sulfur dioxide':'free_sulfur_dioxide','total sulfur dioxide':'total_sulfur_dioxide'}, inplace=True)\n",
        "df_white.head(n=5)"
      ],
      "execution_count": 8,
      "outputs": [
        {
          "output_type": "execute_result",
          "data": {
            "text/html": [
              "<div>\n",
              "<style scoped>\n",
              "    .dataframe tbody tr th:only-of-type {\n",
              "        vertical-align: middle;\n",
              "    }\n",
              "\n",
              "    .dataframe tbody tr th {\n",
              "        vertical-align: top;\n",
              "    }\n",
              "\n",
              "    .dataframe thead th {\n",
              "        text-align: right;\n",
              "    }\n",
              "</style>\n",
              "<table border=\"1\" class=\"dataframe\">\n",
              "  <thead>\n",
              "    <tr style=\"text-align: right;\">\n",
              "      <th></th>\n",
              "      <th>fixed_acidity</th>\n",
              "      <th>volatile_acidity</th>\n",
              "      <th>citric_acid</th>\n",
              "      <th>residual_sugar</th>\n",
              "      <th>chlorides</th>\n",
              "      <th>free_sulfur_dioxide</th>\n",
              "      <th>total_sulfur_dioxide</th>\n",
              "      <th>density</th>\n",
              "      <th>pH</th>\n",
              "      <th>sulphates</th>\n",
              "      <th>alcohol</th>\n",
              "      <th>quality</th>\n",
              "    </tr>\n",
              "  </thead>\n",
              "  <tbody>\n",
              "    <tr>\n",
              "      <th>0</th>\n",
              "      <td>7.0</td>\n",
              "      <td>0.27</td>\n",
              "      <td>0.36</td>\n",
              "      <td>20.7</td>\n",
              "      <td>0.045</td>\n",
              "      <td>45.0</td>\n",
              "      <td>170.0</td>\n",
              "      <td>1.0010</td>\n",
              "      <td>3.00</td>\n",
              "      <td>0.45</td>\n",
              "      <td>8.8</td>\n",
              "      <td>6</td>\n",
              "    </tr>\n",
              "    <tr>\n",
              "      <th>1</th>\n",
              "      <td>6.3</td>\n",
              "      <td>0.30</td>\n",
              "      <td>0.34</td>\n",
              "      <td>1.6</td>\n",
              "      <td>0.049</td>\n",
              "      <td>14.0</td>\n",
              "      <td>132.0</td>\n",
              "      <td>0.9940</td>\n",
              "      <td>3.30</td>\n",
              "      <td>0.49</td>\n",
              "      <td>9.5</td>\n",
              "      <td>6</td>\n",
              "    </tr>\n",
              "    <tr>\n",
              "      <th>2</th>\n",
              "      <td>8.1</td>\n",
              "      <td>0.28</td>\n",
              "      <td>0.40</td>\n",
              "      <td>6.9</td>\n",
              "      <td>0.050</td>\n",
              "      <td>30.0</td>\n",
              "      <td>97.0</td>\n",
              "      <td>0.9951</td>\n",
              "      <td>3.26</td>\n",
              "      <td>0.44</td>\n",
              "      <td>10.1</td>\n",
              "      <td>6</td>\n",
              "    </tr>\n",
              "    <tr>\n",
              "      <th>3</th>\n",
              "      <td>7.2</td>\n",
              "      <td>0.23</td>\n",
              "      <td>0.32</td>\n",
              "      <td>8.5</td>\n",
              "      <td>0.058</td>\n",
              "      <td>47.0</td>\n",
              "      <td>186.0</td>\n",
              "      <td>0.9956</td>\n",
              "      <td>3.19</td>\n",
              "      <td>0.40</td>\n",
              "      <td>9.9</td>\n",
              "      <td>6</td>\n",
              "    </tr>\n",
              "    <tr>\n",
              "      <th>4</th>\n",
              "      <td>7.2</td>\n",
              "      <td>0.23</td>\n",
              "      <td>0.32</td>\n",
              "      <td>8.5</td>\n",
              "      <td>0.058</td>\n",
              "      <td>47.0</td>\n",
              "      <td>186.0</td>\n",
              "      <td>0.9956</td>\n",
              "      <td>3.19</td>\n",
              "      <td>0.40</td>\n",
              "      <td>9.9</td>\n",
              "      <td>6</td>\n",
              "    </tr>\n",
              "  </tbody>\n",
              "</table>\n",
              "</div>"
            ],
            "text/plain": [
              "   fixed_acidity  volatile_acidity  citric_acid  residual_sugar  chlorides  \\\n",
              "0            7.0              0.27         0.36            20.7      0.045   \n",
              "1            6.3              0.30         0.34             1.6      0.049   \n",
              "2            8.1              0.28         0.40             6.9      0.050   \n",
              "3            7.2              0.23         0.32             8.5      0.058   \n",
              "4            7.2              0.23         0.32             8.5      0.058   \n",
              "\n",
              "   free_sulfur_dioxide  total_sulfur_dioxide  density    pH  sulphates  \\\n",
              "0                 45.0                 170.0   1.0010  3.00       0.45   \n",
              "1                 14.0                 132.0   0.9940  3.30       0.49   \n",
              "2                 30.0                  97.0   0.9951  3.26       0.44   \n",
              "3                 47.0                 186.0   0.9956  3.19       0.40   \n",
              "4                 47.0                 186.0   0.9956  3.19       0.40   \n",
              "\n",
              "   alcohol  quality  \n",
              "0      8.8        6  \n",
              "1      9.5        6  \n",
              "2     10.1        6  \n",
              "3      9.9        6  \n",
              "4      9.9        6  "
            ]
          },
          "metadata": {
            "tags": []
          },
          "execution_count": 8
        }
      ]
    },
    {
      "cell_type": "code",
      "metadata": {
        "id": "-tTKCBkPfwQ-",
        "colab_type": "code",
        "colab": {
          "base_uri": "https://localhost:8080/",
          "height": 34
        },
        "outputId": "86cca80f-7b15-4760-c779-efdf4f6b1650"
      },
      "source": [
        "df_white.quality.unique()"
      ],
      "execution_count": 9,
      "outputs": [
        {
          "output_type": "execute_result",
          "data": {
            "text/plain": [
              "array([6, 5, 7, 8, 4, 3, 9])"
            ]
          },
          "metadata": {
            "tags": []
          },
          "execution_count": 9
        }
      ]
    },
    {
      "cell_type": "markdown",
      "metadata": {
        "id": "EqBbgGB51PNM",
        "colab_type": "text"
      },
      "source": [
        "**The quality ranges from 1 to 10 - 1 being poor and 10 being the best. We can see the dataset has values 3,4,5,6,7,8,9. We can see we do not have any observations for 1,2 and 10 in our dataset.**"
      ]
    },
    {
      "cell_type": "code",
      "metadata": {
        "id": "eldSMV2-fy-b",
        "colab_type": "code",
        "colab": {
          "base_uri": "https://localhost:8080/",
          "height": 153
        },
        "outputId": "8c4a1928-24ab-433f-f2d2-18ec0fef3fd4"
      },
      "source": [
        "df_white.quality.value_counts().sort_index()"
      ],
      "execution_count": 10,
      "outputs": [
        {
          "output_type": "execute_result",
          "data": {
            "text/plain": [
              "3      20\n",
              "4     163\n",
              "5    1457\n",
              "6    2198\n",
              "7     880\n",
              "8     175\n",
              "9       5\n",
              "Name: quality, dtype: int64"
            ]
          },
          "metadata": {
            "tags": []
          },
          "execution_count": 10
        }
      ]
    },
    {
      "cell_type": "markdown",
      "metadata": {
        "id": "1_rB92Z-yxzI",
        "colab_type": "text"
      },
      "source": [
        "**We can see the dataset has values 3,4,5,6,7,8,9. We can see we do not have any observations for 1,2 and 10 in our dataset. Hence i have converted the quality to categorical - \n",
        "1 - Poor ( for quality ratings < 5)\n",
        "2 - Average ( for quality ratings 5 & 6)\n",
        "3 - Best ( for quality ratings > 6)**\n"
      ]
    },
    {
      "cell_type": "code",
      "metadata": {
        "id": "JahIyOgXf60t",
        "colab_type": "code",
        "colab": {}
      },
      "source": [
        "df_white.loc[df_white['quality'] < 5, 'quality'] = 1\n",
        "df_white.loc[df_white['quality'] == 5, 'quality'] = 2\n",
        "df_white.loc[df_white['quality'] == 6, 'quality'] = 2\n",
        "df_white.loc[df_white['quality'] > 6, 'quality'] = 3"
      ],
      "execution_count": 0,
      "outputs": []
    },
    {
      "cell_type": "code",
      "metadata": {
        "id": "GRIxCOmEjGuF",
        "colab_type": "code",
        "colab": {
          "base_uri": "https://localhost:8080/",
          "height": 34
        },
        "outputId": "c06af1d5-cf4d-4f35-a577-67a7992693c6"
      },
      "source": [
        "df_white.quality.unique()"
      ],
      "execution_count": 12,
      "outputs": [
        {
          "output_type": "execute_result",
          "data": {
            "text/plain": [
              "array([2, 3, 1])"
            ]
          },
          "metadata": {
            "tags": []
          },
          "execution_count": 12
        }
      ]
    },
    {
      "cell_type": "code",
      "metadata": {
        "id": "VgcBA4JvjOqd",
        "colab_type": "code",
        "colab": {
          "base_uri": "https://localhost:8080/",
          "height": 85
        },
        "outputId": "02ef028a-8868-4e49-f53c-89ece0548356"
      },
      "source": [
        "df_white.quality.value_counts().sort_index()"
      ],
      "execution_count": 13,
      "outputs": [
        {
          "output_type": "execute_result",
          "data": {
            "text/plain": [
              "1     183\n",
              "2    3655\n",
              "3    1060\n",
              "Name: quality, dtype: int64"
            ]
          },
          "metadata": {
            "tags": []
          },
          "execution_count": 13
        }
      ]
    },
    {
      "cell_type": "code",
      "metadata": {
        "id": "kVnJAW5isb-t",
        "colab_type": "code",
        "colab": {}
      },
      "source": [
        "np.random.seed(3)"
      ],
      "execution_count": 0,
      "outputs": []
    },
    {
      "cell_type": "code",
      "metadata": {
        "id": "3hYLV1GPsfsX",
        "colab_type": "code",
        "colab": {}
      },
      "source": [
        "# Number of classes for quality ( Poor, Average, Best)\n",
        "classes = 3"
      ],
      "execution_count": 0,
      "outputs": []
    },
    {
      "cell_type": "code",
      "metadata": {
        "id": "am2Mla6RtGFl",
        "colab_type": "code",
        "colab": {}
      },
      "source": [
        "# Splitting quality into y and keeping the rest of features in X\n",
        "X = df_white.iloc[:,0:11]\n",
        "y = df_white.iloc[:,11]"
      ],
      "execution_count": 0,
      "outputs": []
    },
    {
      "cell_type": "code",
      "metadata": {
        "id": "NiYAm_7AtOpW",
        "colab_type": "code",
        "colab": {
          "base_uri": "https://localhost:8080/",
          "height": 204
        },
        "outputId": "e9bc8536-b3b8-45e7-9f7e-55c87db9c77f"
      },
      "source": [
        "X.head()"
      ],
      "execution_count": 17,
      "outputs": [
        {
          "output_type": "execute_result",
          "data": {
            "text/html": [
              "<div>\n",
              "<style scoped>\n",
              "    .dataframe tbody tr th:only-of-type {\n",
              "        vertical-align: middle;\n",
              "    }\n",
              "\n",
              "    .dataframe tbody tr th {\n",
              "        vertical-align: top;\n",
              "    }\n",
              "\n",
              "    .dataframe thead th {\n",
              "        text-align: right;\n",
              "    }\n",
              "</style>\n",
              "<table border=\"1\" class=\"dataframe\">\n",
              "  <thead>\n",
              "    <tr style=\"text-align: right;\">\n",
              "      <th></th>\n",
              "      <th>fixed_acidity</th>\n",
              "      <th>volatile_acidity</th>\n",
              "      <th>citric_acid</th>\n",
              "      <th>residual_sugar</th>\n",
              "      <th>chlorides</th>\n",
              "      <th>free_sulfur_dioxide</th>\n",
              "      <th>total_sulfur_dioxide</th>\n",
              "      <th>density</th>\n",
              "      <th>pH</th>\n",
              "      <th>sulphates</th>\n",
              "      <th>alcohol</th>\n",
              "    </tr>\n",
              "  </thead>\n",
              "  <tbody>\n",
              "    <tr>\n",
              "      <th>0</th>\n",
              "      <td>7.0</td>\n",
              "      <td>0.27</td>\n",
              "      <td>0.36</td>\n",
              "      <td>20.7</td>\n",
              "      <td>0.045</td>\n",
              "      <td>45.0</td>\n",
              "      <td>170.0</td>\n",
              "      <td>1.0010</td>\n",
              "      <td>3.00</td>\n",
              "      <td>0.45</td>\n",
              "      <td>8.8</td>\n",
              "    </tr>\n",
              "    <tr>\n",
              "      <th>1</th>\n",
              "      <td>6.3</td>\n",
              "      <td>0.30</td>\n",
              "      <td>0.34</td>\n",
              "      <td>1.6</td>\n",
              "      <td>0.049</td>\n",
              "      <td>14.0</td>\n",
              "      <td>132.0</td>\n",
              "      <td>0.9940</td>\n",
              "      <td>3.30</td>\n",
              "      <td>0.49</td>\n",
              "      <td>9.5</td>\n",
              "    </tr>\n",
              "    <tr>\n",
              "      <th>2</th>\n",
              "      <td>8.1</td>\n",
              "      <td>0.28</td>\n",
              "      <td>0.40</td>\n",
              "      <td>6.9</td>\n",
              "      <td>0.050</td>\n",
              "      <td>30.0</td>\n",
              "      <td>97.0</td>\n",
              "      <td>0.9951</td>\n",
              "      <td>3.26</td>\n",
              "      <td>0.44</td>\n",
              "      <td>10.1</td>\n",
              "    </tr>\n",
              "    <tr>\n",
              "      <th>3</th>\n",
              "      <td>7.2</td>\n",
              "      <td>0.23</td>\n",
              "      <td>0.32</td>\n",
              "      <td>8.5</td>\n",
              "      <td>0.058</td>\n",
              "      <td>47.0</td>\n",
              "      <td>186.0</td>\n",
              "      <td>0.9956</td>\n",
              "      <td>3.19</td>\n",
              "      <td>0.40</td>\n",
              "      <td>9.9</td>\n",
              "    </tr>\n",
              "    <tr>\n",
              "      <th>4</th>\n",
              "      <td>7.2</td>\n",
              "      <td>0.23</td>\n",
              "      <td>0.32</td>\n",
              "      <td>8.5</td>\n",
              "      <td>0.058</td>\n",
              "      <td>47.0</td>\n",
              "      <td>186.0</td>\n",
              "      <td>0.9956</td>\n",
              "      <td>3.19</td>\n",
              "      <td>0.40</td>\n",
              "      <td>9.9</td>\n",
              "    </tr>\n",
              "  </tbody>\n",
              "</table>\n",
              "</div>"
            ],
            "text/plain": [
              "   fixed_acidity  volatile_acidity  citric_acid  residual_sugar  chlorides  \\\n",
              "0            7.0              0.27         0.36            20.7      0.045   \n",
              "1            6.3              0.30         0.34             1.6      0.049   \n",
              "2            8.1              0.28         0.40             6.9      0.050   \n",
              "3            7.2              0.23         0.32             8.5      0.058   \n",
              "4            7.2              0.23         0.32             8.5      0.058   \n",
              "\n",
              "   free_sulfur_dioxide  total_sulfur_dioxide  density    pH  sulphates  \\\n",
              "0                 45.0                 170.0   1.0010  3.00       0.45   \n",
              "1                 14.0                 132.0   0.9940  3.30       0.49   \n",
              "2                 30.0                  97.0   0.9951  3.26       0.44   \n",
              "3                 47.0                 186.0   0.9956  3.19       0.40   \n",
              "4                 47.0                 186.0   0.9956  3.19       0.40   \n",
              "\n",
              "   alcohol  \n",
              "0      8.8  \n",
              "1      9.5  \n",
              "2     10.1  \n",
              "3      9.9  \n",
              "4      9.9  "
            ]
          },
          "metadata": {
            "tags": []
          },
          "execution_count": 17
        }
      ]
    },
    {
      "cell_type": "code",
      "metadata": {
        "id": "16N7_T-tumBg",
        "colab_type": "code",
        "colab": {
          "base_uri": "https://localhost:8080/",
          "height": 119
        },
        "outputId": "a04ac339-817a-4696-f93a-4de37c4cfa9c"
      },
      "source": [
        "y.head()"
      ],
      "execution_count": 18,
      "outputs": [
        {
          "output_type": "execute_result",
          "data": {
            "text/plain": [
              "0    2\n",
              "1    2\n",
              "2    2\n",
              "3    2\n",
              "4    2\n",
              "Name: quality, dtype: int64"
            ]
          },
          "metadata": {
            "tags": []
          },
          "execution_count": 18
        }
      ]
    },
    {
      "cell_type": "code",
      "metadata": {
        "id": "lENx_fR9uwmb",
        "colab_type": "code",
        "colab": {}
      },
      "source": [
        "#standardizing the input feature\n",
        "from sklearn.preprocessing import StandardScaler\n",
        "sc = StandardScaler()\n",
        "X = sc.fit_transform(X)\n"
      ],
      "execution_count": 0,
      "outputs": []
    },
    {
      "cell_type": "code",
      "metadata": {
        "id": "OglPBy22vcgT",
        "colab_type": "code",
        "colab": {}
      },
      "source": [
        "from sklearn.model_selection import train_test_split\n",
        "X_train, X_test, y_train, y_test = train_test_split(X, y, test_size=0.3)"
      ],
      "execution_count": 0,
      "outputs": []
    },
    {
      "cell_type": "code",
      "metadata": {
        "id": "LknrQkmxxpQu",
        "colab_type": "code",
        "colab": {}
      },
      "source": [
        "# one hot-encoding\n",
        "y_train = keras.utils.to_categorical(y_train-1, classes)\n",
        "y_test = keras.utils.to_categorical(y_test-1, classes)"
      ],
      "execution_count": 0,
      "outputs": []
    },
    {
      "cell_type": "code",
      "metadata": {
        "id": "tvUe6-NwviTg",
        "colab_type": "code",
        "colab": {
          "base_uri": "https://localhost:8080/",
          "height": 88
        },
        "outputId": "58880bbd-8c1d-4b4d-92e6-df952d7fd3b1"
      },
      "source": [
        "classifier = Sequential()\n",
        "# First Hidden Layer\n",
        "classifier.add(Dense(10, activation='relu', kernel_initializer='random_normal', input_dim=11))\n",
        "# Second  Hidden Layer\n",
        "classifier.add(Dense(10, activation='relu', kernel_initializer='random_normal'))\n",
        "# Output Layer\n",
        "classifier.add(Dense(3, activation='softmax', kernel_initializer='random_normal'))"
      ],
      "execution_count": 22,
      "outputs": [
        {
          "output_type": "stream",
          "text": [
            "WARNING:tensorflow:From /usr/local/lib/python3.6/dist-packages/tensorflow/python/framework/op_def_library.py:263: colocate_with (from tensorflow.python.framework.ops) is deprecated and will be removed in a future version.\n",
            "Instructions for updating:\n",
            "Colocations handled automatically by placer.\n"
          ],
          "name": "stdout"
        }
      ]
    },
    {
      "cell_type": "code",
      "metadata": {
        "id": "7IoAIuYGwcU9",
        "colab_type": "code",
        "colab": {}
      },
      "source": [
        "# Compiling the neural network\n",
        "classifier.compile(optimizer ='adam',loss='categorical_crossentropy', metrics =['accuracy'])"
      ],
      "execution_count": 0,
      "outputs": []
    },
    {
      "cell_type": "code",
      "metadata": {
        "id": "FZj-4FVTwffI",
        "colab_type": "code",
        "colab": {
          "base_uri": "https://localhost:8080/",
          "height": 8534
        },
        "outputId": "49370838-e52b-4409-d545-64efc927ae9d"
      },
      "source": [
        "# Fitting the data to the training dataset\n",
        "classifier.fit(X_train,y_train, batch_size=10, epochs=250)"
      ],
      "execution_count": 27,
      "outputs": [
        {
          "output_type": "stream",
          "text": [
            "Epoch 1/250\n",
            "3428/3428 [==============================] - 0s 98us/step - loss: 0.4720 - acc: 0.7955\n",
            "Epoch 2/250\n",
            "3428/3428 [==============================] - 0s 98us/step - loss: 0.4696 - acc: 0.8011\n",
            "Epoch 3/250\n",
            "3428/3428 [==============================] - 0s 97us/step - loss: 0.4698 - acc: 0.7926\n",
            "Epoch 4/250\n",
            "3428/3428 [==============================] - 0s 97us/step - loss: 0.4704 - acc: 0.7975\n",
            "Epoch 5/250\n",
            "3428/3428 [==============================] - 0s 99us/step - loss: 0.4681 - acc: 0.7990\n",
            "Epoch 6/250\n",
            "3428/3428 [==============================] - 0s 98us/step - loss: 0.4688 - acc: 0.7970\n",
            "Epoch 7/250\n",
            "3428/3428 [==============================] - 0s 99us/step - loss: 0.4706 - acc: 0.7964\n",
            "Epoch 8/250\n",
            "3428/3428 [==============================] - 0s 98us/step - loss: 0.4681 - acc: 0.8005\n",
            "Epoch 9/250\n",
            "3428/3428 [==============================] - 0s 99us/step - loss: 0.4677 - acc: 0.7958\n",
            "Epoch 10/250\n",
            "3428/3428 [==============================] - 0s 98us/step - loss: 0.4679 - acc: 0.7946\n",
            "Epoch 11/250\n",
            "3428/3428 [==============================] - 0s 99us/step - loss: 0.4679 - acc: 0.7967\n",
            "Epoch 12/250\n",
            "3428/3428 [==============================] - 0s 99us/step - loss: 0.4675 - acc: 0.7981\n",
            "Epoch 13/250\n",
            "3428/3428 [==============================] - 0s 99us/step - loss: 0.4676 - acc: 0.7970\n",
            "Epoch 14/250\n",
            "3428/3428 [==============================] - 0s 99us/step - loss: 0.4676 - acc: 0.7935\n",
            "Epoch 15/250\n",
            "3428/3428 [==============================] - 0s 96us/step - loss: 0.4654 - acc: 0.7996\n",
            "Epoch 16/250\n",
            "3428/3428 [==============================] - 0s 97us/step - loss: 0.4688 - acc: 0.7952\n",
            "Epoch 17/250\n",
            "3428/3428 [==============================] - 0s 97us/step - loss: 0.4662 - acc: 0.7929\n",
            "Epoch 18/250\n",
            "3428/3428 [==============================] - 0s 98us/step - loss: 0.4681 - acc: 0.7961\n",
            "Epoch 19/250\n",
            "3428/3428 [==============================] - 0s 98us/step - loss: 0.4668 - acc: 0.8028\n",
            "Epoch 20/250\n",
            "3428/3428 [==============================] - 0s 97us/step - loss: 0.4645 - acc: 0.8005\n",
            "Epoch 21/250\n",
            "3428/3428 [==============================] - 0s 97us/step - loss: 0.4666 - acc: 0.7996\n",
            "Epoch 22/250\n",
            "3428/3428 [==============================] - 0s 97us/step - loss: 0.4657 - acc: 0.7973\n",
            "Epoch 23/250\n",
            "3428/3428 [==============================] - 0s 98us/step - loss: 0.4662 - acc: 0.7973\n",
            "Epoch 24/250\n",
            "3428/3428 [==============================] - 0s 99us/step - loss: 0.4668 - acc: 0.7955\n",
            "Epoch 25/250\n",
            "3428/3428 [==============================] - 0s 97us/step - loss: 0.4648 - acc: 0.8034\n",
            "Epoch 26/250\n",
            "3428/3428 [==============================] - 0s 97us/step - loss: 0.4665 - acc: 0.7961\n",
            "Epoch 27/250\n",
            "3428/3428 [==============================] - 0s 98us/step - loss: 0.4642 - acc: 0.8083\n",
            "Epoch 28/250\n",
            "3428/3428 [==============================] - 0s 98us/step - loss: 0.4634 - acc: 0.7984\n",
            "Epoch 29/250\n",
            "3428/3428 [==============================] - 0s 98us/step - loss: 0.4635 - acc: 0.7952\n",
            "Epoch 30/250\n",
            "3428/3428 [==============================] - 0s 98us/step - loss: 0.4628 - acc: 0.7975\n",
            "Epoch 31/250\n",
            "3428/3428 [==============================] - 0s 98us/step - loss: 0.4645 - acc: 0.7967\n",
            "Epoch 32/250\n",
            "3428/3428 [==============================] - 0s 98us/step - loss: 0.4619 - acc: 0.8011\n",
            "Epoch 33/250\n",
            "3428/3428 [==============================] - 0s 99us/step - loss: 0.4648 - acc: 0.7955\n",
            "Epoch 34/250\n",
            "3428/3428 [==============================] - 0s 98us/step - loss: 0.4628 - acc: 0.7993\n",
            "Epoch 35/250\n",
            "3428/3428 [==============================] - 0s 99us/step - loss: 0.4625 - acc: 0.8002\n",
            "Epoch 36/250\n",
            "3428/3428 [==============================] - 0s 98us/step - loss: 0.4622 - acc: 0.8005\n",
            "Epoch 37/250\n",
            "3428/3428 [==============================] - 0s 97us/step - loss: 0.4618 - acc: 0.7952\n",
            "Epoch 38/250\n",
            "3428/3428 [==============================] - 0s 98us/step - loss: 0.4602 - acc: 0.7987\n",
            "Epoch 39/250\n",
            "3428/3428 [==============================] - 0s 101us/step - loss: 0.4602 - acc: 0.8011\n",
            "Epoch 40/250\n",
            "3428/3428 [==============================] - 0s 97us/step - loss: 0.4627 - acc: 0.7973\n",
            "Epoch 41/250\n",
            "3428/3428 [==============================] - 0s 98us/step - loss: 0.4598 - acc: 0.8013\n",
            "Epoch 42/250\n",
            "3428/3428 [==============================] - 0s 98us/step - loss: 0.4609 - acc: 0.8025\n",
            "Epoch 43/250\n",
            "3428/3428 [==============================] - 0s 98us/step - loss: 0.4590 - acc: 0.8072\n",
            "Epoch 44/250\n",
            "3428/3428 [==============================] - 0s 99us/step - loss: 0.4599 - acc: 0.7996\n",
            "Epoch 45/250\n",
            "3428/3428 [==============================] - 0s 95us/step - loss: 0.4615 - acc: 0.8011\n",
            "Epoch 46/250\n",
            "3428/3428 [==============================] - 0s 131us/step - loss: 0.4604 - acc: 0.8011\n",
            "Epoch 47/250\n",
            "3428/3428 [==============================] - 0s 98us/step - loss: 0.4617 - acc: 0.7973\n",
            "Epoch 48/250\n",
            "3428/3428 [==============================] - 0s 96us/step - loss: 0.4578 - acc: 0.8037\n",
            "Epoch 49/250\n",
            "3428/3428 [==============================] - 0s 97us/step - loss: 0.4595 - acc: 0.8043\n",
            "Epoch 50/250\n",
            "3428/3428 [==============================] - 0s 96us/step - loss: 0.4598 - acc: 0.8013\n",
            "Epoch 51/250\n",
            "3428/3428 [==============================] - 0s 97us/step - loss: 0.4588 - acc: 0.8031\n",
            "Epoch 52/250\n",
            "3428/3428 [==============================] - 0s 97us/step - loss: 0.4599 - acc: 0.8022\n",
            "Epoch 53/250\n",
            "3428/3428 [==============================] - 0s 98us/step - loss: 0.4590 - acc: 0.8022\n",
            "Epoch 54/250\n",
            "3428/3428 [==============================] - 0s 97us/step - loss: 0.4592 - acc: 0.8025\n",
            "Epoch 55/250\n",
            "3428/3428 [==============================] - 0s 96us/step - loss: 0.4594 - acc: 0.8022\n",
            "Epoch 56/250\n",
            "3428/3428 [==============================] - 0s 97us/step - loss: 0.4596 - acc: 0.7952\n",
            "Epoch 57/250\n",
            "3428/3428 [==============================] - 0s 103us/step - loss: 0.4583 - acc: 0.8008\n",
            "Epoch 58/250\n",
            "3428/3428 [==============================] - 0s 99us/step - loss: 0.4584 - acc: 0.7993\n",
            "Epoch 59/250\n",
            "3428/3428 [==============================] - 0s 96us/step - loss: 0.4603 - acc: 0.7978\n",
            "Epoch 60/250\n",
            "3428/3428 [==============================] - 0s 97us/step - loss: 0.4579 - acc: 0.7981\n",
            "Epoch 61/250\n",
            "3428/3428 [==============================] - 0s 99us/step - loss: 0.4587 - acc: 0.8016\n",
            "Epoch 62/250\n",
            "3428/3428 [==============================] - 0s 99us/step - loss: 0.4604 - acc: 0.8005\n",
            "Epoch 63/250\n",
            "3428/3428 [==============================] - 0s 95us/step - loss: 0.4583 - acc: 0.8016\n",
            "Epoch 64/250\n",
            "3428/3428 [==============================] - 0s 96us/step - loss: 0.4591 - acc: 0.7978\n",
            "Epoch 65/250\n",
            "3428/3428 [==============================] - 0s 96us/step - loss: 0.4590 - acc: 0.8005\n",
            "Epoch 66/250\n",
            "3428/3428 [==============================] - 0s 97us/step - loss: 0.4579 - acc: 0.8040\n",
            "Epoch 67/250\n",
            "3428/3428 [==============================] - 0s 99us/step - loss: 0.4582 - acc: 0.8060\n",
            "Epoch 68/250\n",
            "3428/3428 [==============================] - 0s 99us/step - loss: 0.4568 - acc: 0.8057\n",
            "Epoch 69/250\n",
            "3428/3428 [==============================] - 0s 97us/step - loss: 0.4572 - acc: 0.8019\n",
            "Epoch 70/250\n",
            "3428/3428 [==============================] - 0s 102us/step - loss: 0.4575 - acc: 0.7990\n",
            "Epoch 71/250\n",
            "3428/3428 [==============================] - 0s 100us/step - loss: 0.4575 - acc: 0.8040\n",
            "Epoch 72/250\n",
            "3428/3428 [==============================] - 0s 97us/step - loss: 0.4560 - acc: 0.8022\n",
            "Epoch 73/250\n",
            "3428/3428 [==============================] - 0s 99us/step - loss: 0.4591 - acc: 0.8031\n",
            "Epoch 74/250\n",
            "3428/3428 [==============================] - 0s 99us/step - loss: 0.4576 - acc: 0.8037\n",
            "Epoch 75/250\n",
            "3428/3428 [==============================] - 0s 97us/step - loss: 0.4567 - acc: 0.8011\n",
            "Epoch 76/250\n",
            "3428/3428 [==============================] - 0s 96us/step - loss: 0.4589 - acc: 0.8025\n",
            "Epoch 77/250\n",
            "3428/3428 [==============================] - 0s 97us/step - loss: 0.4561 - acc: 0.7993\n",
            "Epoch 78/250\n",
            "3428/3428 [==============================] - 0s 96us/step - loss: 0.4576 - acc: 0.8066\n",
            "Epoch 79/250\n",
            "3428/3428 [==============================] - 0s 96us/step - loss: 0.4561 - acc: 0.7964\n",
            "Epoch 80/250\n",
            "3428/3428 [==============================] - 0s 100us/step - loss: 0.4574 - acc: 0.8002\n",
            "Epoch 81/250\n",
            "3428/3428 [==============================] - 0s 99us/step - loss: 0.4564 - acc: 0.8048\n",
            "Epoch 82/250\n",
            "3428/3428 [==============================] - 0s 96us/step - loss: 0.4551 - acc: 0.8031\n",
            "Epoch 83/250\n",
            "3428/3428 [==============================] - 0s 98us/step - loss: 0.4591 - acc: 0.8002\n",
            "Epoch 84/250\n",
            "3428/3428 [==============================] - 0s 96us/step - loss: 0.4595 - acc: 0.7990\n",
            "Epoch 85/250\n",
            "3428/3428 [==============================] - 0s 98us/step - loss: 0.4573 - acc: 0.8048\n",
            "Epoch 86/250\n",
            "3428/3428 [==============================] - 0s 98us/step - loss: 0.4548 - acc: 0.8040\n",
            "Epoch 87/250\n",
            "3428/3428 [==============================] - 0s 97us/step - loss: 0.4579 - acc: 0.8025\n",
            "Epoch 88/250\n",
            "3428/3428 [==============================] - 0s 98us/step - loss: 0.4556 - acc: 0.8025\n",
            "Epoch 89/250\n",
            "3428/3428 [==============================] - 0s 96us/step - loss: 0.4559 - acc: 0.8051\n",
            "Epoch 90/250\n",
            "3428/3428 [==============================] - 0s 97us/step - loss: 0.4573 - acc: 0.8048\n",
            "Epoch 91/250\n",
            "3428/3428 [==============================] - 0s 97us/step - loss: 0.4567 - acc: 0.8011\n",
            "Epoch 92/250\n",
            "3428/3428 [==============================] - 0s 98us/step - loss: 0.4544 - acc: 0.8057\n",
            "Epoch 93/250\n",
            "3428/3428 [==============================] - 0s 96us/step - loss: 0.4574 - acc: 0.7990\n",
            "Epoch 94/250\n",
            "3428/3428 [==============================] - 0s 97us/step - loss: 0.4567 - acc: 0.7978\n",
            "Epoch 95/250\n",
            "3428/3428 [==============================] - 0s 98us/step - loss: 0.4572 - acc: 0.8002\n",
            "Epoch 96/250\n",
            "3428/3428 [==============================] - 0s 95us/step - loss: 0.4548 - acc: 0.8034\n",
            "Epoch 97/250\n",
            "3428/3428 [==============================] - 0s 97us/step - loss: 0.4588 - acc: 0.7996\n",
            "Epoch 98/250\n",
            "3428/3428 [==============================] - 0s 98us/step - loss: 0.4571 - acc: 0.8005\n",
            "Epoch 99/250\n",
            "3428/3428 [==============================] - 0s 95us/step - loss: 0.4570 - acc: 0.7946\n",
            "Epoch 100/250\n",
            "3428/3428 [==============================] - 0s 97us/step - loss: 0.4571 - acc: 0.8034\n",
            "Epoch 101/250\n",
            "3428/3428 [==============================] - 0s 102us/step - loss: 0.4572 - acc: 0.8025\n",
            "Epoch 102/250\n",
            "3428/3428 [==============================] - 0s 98us/step - loss: 0.4557 - acc: 0.7970\n",
            "Epoch 103/250\n",
            "3428/3428 [==============================] - 0s 99us/step - loss: 0.4564 - acc: 0.8037\n",
            "Epoch 104/250\n",
            "3428/3428 [==============================] - 0s 99us/step - loss: 0.4569 - acc: 0.8048\n",
            "Epoch 105/250\n",
            "3428/3428 [==============================] - 0s 96us/step - loss: 0.4569 - acc: 0.7993\n",
            "Epoch 106/250\n",
            "3428/3428 [==============================] - 0s 98us/step - loss: 0.4558 - acc: 0.8043\n",
            "Epoch 107/250\n",
            "3428/3428 [==============================] - 0s 96us/step - loss: 0.4562 - acc: 0.8025\n",
            "Epoch 108/250\n",
            "3428/3428 [==============================] - 0s 96us/step - loss: 0.4576 - acc: 0.7999\n",
            "Epoch 109/250\n",
            "3428/3428 [==============================] - 0s 99us/step - loss: 0.4574 - acc: 0.8005\n",
            "Epoch 110/250\n",
            "3428/3428 [==============================] - 0s 99us/step - loss: 0.4557 - acc: 0.8016\n",
            "Epoch 111/250\n",
            "3428/3428 [==============================] - 0s 99us/step - loss: 0.4577 - acc: 0.8008\n",
            "Epoch 112/250\n",
            "3428/3428 [==============================] - 0s 100us/step - loss: 0.4538 - acc: 0.8066\n",
            "Epoch 113/250\n",
            "3428/3428 [==============================] - 0s 99us/step - loss: 0.4567 - acc: 0.8008\n",
            "Epoch 114/250\n",
            "3428/3428 [==============================] - 0s 97us/step - loss: 0.4568 - acc: 0.8002\n",
            "Epoch 115/250\n",
            "3428/3428 [==============================] - 0s 98us/step - loss: 0.4560 - acc: 0.8048\n",
            "Epoch 116/250\n",
            "3428/3428 [==============================] - 0s 97us/step - loss: 0.4544 - acc: 0.8066\n",
            "Epoch 117/250\n",
            "3428/3428 [==============================] - 0s 99us/step - loss: 0.4575 - acc: 0.8054\n",
            "Epoch 118/250\n",
            "3428/3428 [==============================] - 0s 98us/step - loss: 0.4554 - acc: 0.8008\n",
            "Epoch 119/250\n",
            "3428/3428 [==============================] - 0s 97us/step - loss: 0.4542 - acc: 0.8046\n",
            "Epoch 120/250\n",
            "3428/3428 [==============================] - 0s 98us/step - loss: 0.4559 - acc: 0.8069\n",
            "Epoch 121/250\n",
            "3428/3428 [==============================] - 0s 98us/step - loss: 0.4545 - acc: 0.8022\n",
            "Epoch 122/250\n",
            "3428/3428 [==============================] - 0s 98us/step - loss: 0.4563 - acc: 0.8019\n",
            "Epoch 123/250\n",
            "3428/3428 [==============================] - 0s 98us/step - loss: 0.4554 - acc: 0.8019\n",
            "Epoch 124/250\n",
            "3428/3428 [==============================] - 0s 98us/step - loss: 0.4548 - acc: 0.8013\n",
            "Epoch 125/250\n",
            "3428/3428 [==============================] - 0s 98us/step - loss: 0.4560 - acc: 0.8060\n",
            "Epoch 126/250\n",
            "3428/3428 [==============================] - 0s 99us/step - loss: 0.4554 - acc: 0.7975\n",
            "Epoch 127/250\n",
            "3428/3428 [==============================] - 0s 99us/step - loss: 0.4571 - acc: 0.8011\n",
            "Epoch 128/250\n",
            "3428/3428 [==============================] - 0s 99us/step - loss: 0.4560 - acc: 0.8040\n",
            "Epoch 129/250\n",
            "3428/3428 [==============================] - 0s 98us/step - loss: 0.4546 - acc: 0.7999\n",
            "Epoch 130/250\n",
            "3428/3428 [==============================] - 0s 99us/step - loss: 0.4559 - acc: 0.8048\n",
            "Epoch 131/250\n",
            "3428/3428 [==============================] - 0s 97us/step - loss: 0.4541 - acc: 0.8075\n",
            "Epoch 132/250\n",
            "3428/3428 [==============================] - 0s 103us/step - loss: 0.4547 - acc: 0.8025\n",
            "Epoch 133/250\n",
            "3428/3428 [==============================] - 0s 102us/step - loss: 0.4560 - acc: 0.8025\n",
            "Epoch 134/250\n",
            "3428/3428 [==============================] - 0s 100us/step - loss: 0.4564 - acc: 0.7996\n",
            "Epoch 135/250\n",
            "3428/3428 [==============================] - 0s 97us/step - loss: 0.4549 - acc: 0.7999\n",
            "Epoch 136/250\n",
            "3428/3428 [==============================] - 0s 98us/step - loss: 0.4556 - acc: 0.7981\n",
            "Epoch 137/250\n",
            "3428/3428 [==============================] - 0s 97us/step - loss: 0.4528 - acc: 0.7999\n",
            "Epoch 138/250\n",
            "3428/3428 [==============================] - 0s 98us/step - loss: 0.4567 - acc: 0.7984\n",
            "Epoch 139/250\n",
            "3428/3428 [==============================] - 0s 98us/step - loss: 0.4556 - acc: 0.8081\n",
            "Epoch 140/250\n",
            "3428/3428 [==============================] - 0s 101us/step - loss: 0.4545 - acc: 0.8019\n",
            "Epoch 141/250\n",
            "3428/3428 [==============================] - 0s 98us/step - loss: 0.4543 - acc: 0.8034\n",
            "Epoch 142/250\n",
            "3428/3428 [==============================] - 0s 100us/step - loss: 0.4547 - acc: 0.8022\n",
            "Epoch 143/250\n",
            "3428/3428 [==============================] - 0s 99us/step - loss: 0.4549 - acc: 0.8037\n",
            "Epoch 144/250\n",
            "3428/3428 [==============================] - 0s 98us/step - loss: 0.4553 - acc: 0.7981\n",
            "Epoch 145/250\n",
            "3428/3428 [==============================] - 0s 97us/step - loss: 0.4549 - acc: 0.8028\n",
            "Epoch 146/250\n",
            "3428/3428 [==============================] - 0s 99us/step - loss: 0.4541 - acc: 0.8034\n",
            "Epoch 147/250\n",
            "3428/3428 [==============================] - 0s 98us/step - loss: 0.4557 - acc: 0.8011\n",
            "Epoch 148/250\n",
            "3428/3428 [==============================] - 0s 99us/step - loss: 0.4542 - acc: 0.8043\n",
            "Epoch 149/250\n",
            "3428/3428 [==============================] - 0s 97us/step - loss: 0.4548 - acc: 0.8046\n",
            "Epoch 150/250\n",
            "3428/3428 [==============================] - 0s 98us/step - loss: 0.4552 - acc: 0.7999\n",
            "Epoch 151/250\n",
            "3428/3428 [==============================] - 0s 98us/step - loss: 0.4544 - acc: 0.8016\n",
            "Epoch 152/250\n",
            "3428/3428 [==============================] - 0s 98us/step - loss: 0.4545 - acc: 0.8025\n",
            "Epoch 153/250\n",
            "3428/3428 [==============================] - 0s 97us/step - loss: 0.4543 - acc: 0.8046\n",
            "Epoch 154/250\n",
            "3428/3428 [==============================] - 0s 97us/step - loss: 0.4542 - acc: 0.7990\n",
            "Epoch 155/250\n",
            "3428/3428 [==============================] - 0s 97us/step - loss: 0.4532 - acc: 0.8002\n",
            "Epoch 156/250\n",
            "3428/3428 [==============================] - 0s 97us/step - loss: 0.4538 - acc: 0.8005\n",
            "Epoch 157/250\n",
            "3428/3428 [==============================] - 0s 98us/step - loss: 0.4546 - acc: 0.8025\n",
            "Epoch 158/250\n",
            "3428/3428 [==============================] - 0s 98us/step - loss: 0.4531 - acc: 0.8054\n",
            "Epoch 159/250\n",
            "3428/3428 [==============================] - 0s 98us/step - loss: 0.4540 - acc: 0.8028\n",
            "Epoch 160/250\n",
            "3428/3428 [==============================] - 0s 98us/step - loss: 0.4546 - acc: 0.8002\n",
            "Epoch 161/250\n",
            "3428/3428 [==============================] - 0s 97us/step - loss: 0.4565 - acc: 0.8016\n",
            "Epoch 162/250\n",
            "3428/3428 [==============================] - 0s 101us/step - loss: 0.4546 - acc: 0.8016\n",
            "Epoch 163/250\n",
            "3428/3428 [==============================] - 0s 103us/step - loss: 0.4536 - acc: 0.8046\n",
            "Epoch 164/250\n",
            "3428/3428 [==============================] - 0s 99us/step - loss: 0.4540 - acc: 0.8078\n",
            "Epoch 165/250\n",
            "3428/3428 [==============================] - 0s 100us/step - loss: 0.4546 - acc: 0.8008\n",
            "Epoch 166/250\n",
            "3428/3428 [==============================] - 0s 98us/step - loss: 0.4546 - acc: 0.8013\n",
            "Epoch 167/250\n",
            "3428/3428 [==============================] - 0s 96us/step - loss: 0.4526 - acc: 0.8057\n",
            "Epoch 168/250\n",
            "3428/3428 [==============================] - 0s 99us/step - loss: 0.4542 - acc: 0.8028\n",
            "Epoch 169/250\n",
            "3428/3428 [==============================] - 0s 96us/step - loss: 0.4540 - acc: 0.8043\n",
            "Epoch 170/250\n",
            "3428/3428 [==============================] - 0s 98us/step - loss: 0.4538 - acc: 0.8043\n",
            "Epoch 171/250\n",
            "3428/3428 [==============================] - 0s 99us/step - loss: 0.4530 - acc: 0.8005\n",
            "Epoch 172/250\n",
            "3428/3428 [==============================] - 0s 100us/step - loss: 0.4509 - acc: 0.8089\n",
            "Epoch 173/250\n",
            "3428/3428 [==============================] - 0s 97us/step - loss: 0.4524 - acc: 0.8046\n",
            "Epoch 174/250\n",
            "3428/3428 [==============================] - 0s 98us/step - loss: 0.4542 - acc: 0.8031\n",
            "Epoch 175/250\n",
            "3428/3428 [==============================] - 0s 97us/step - loss: 0.4530 - acc: 0.7978\n",
            "Epoch 176/250\n",
            "3428/3428 [==============================] - 0s 99us/step - loss: 0.4536 - acc: 0.8013\n",
            "Epoch 177/250\n",
            "3428/3428 [==============================] - 0s 98us/step - loss: 0.4541 - acc: 0.8046\n",
            "Epoch 178/250\n",
            "3428/3428 [==============================] - 0s 98us/step - loss: 0.4537 - acc: 0.8019\n",
            "Epoch 179/250\n",
            "3428/3428 [==============================] - 0s 99us/step - loss: 0.4526 - acc: 0.8063\n",
            "Epoch 180/250\n",
            "3428/3428 [==============================] - 0s 97us/step - loss: 0.4540 - acc: 0.7984\n",
            "Epoch 181/250\n",
            "3428/3428 [==============================] - 0s 98us/step - loss: 0.4522 - acc: 0.8037\n",
            "Epoch 182/250\n",
            "3428/3428 [==============================] - 0s 96us/step - loss: 0.4539 - acc: 0.8005\n",
            "Epoch 183/250\n",
            "3428/3428 [==============================] - 0s 99us/step - loss: 0.4538 - acc: 0.8028\n",
            "Epoch 184/250\n",
            "3428/3428 [==============================] - 0s 97us/step - loss: 0.4522 - acc: 0.8054\n",
            "Epoch 185/250\n",
            "3428/3428 [==============================] - 0s 98us/step - loss: 0.4516 - acc: 0.8057\n",
            "Epoch 186/250\n",
            "3428/3428 [==============================] - 0s 98us/step - loss: 0.4542 - acc: 0.7984\n",
            "Epoch 187/250\n",
            "3428/3428 [==============================] - 0s 97us/step - loss: 0.4541 - acc: 0.8040\n",
            "Epoch 188/250\n",
            "3428/3428 [==============================] - 0s 98us/step - loss: 0.4533 - acc: 0.8057\n",
            "Epoch 189/250\n",
            "3428/3428 [==============================] - 0s 98us/step - loss: 0.4514 - acc: 0.8016\n",
            "Epoch 190/250\n",
            "3428/3428 [==============================] - 0s 99us/step - loss: 0.4531 - acc: 0.8016\n",
            "Epoch 191/250\n",
            "3428/3428 [==============================] - 0s 99us/step - loss: 0.4525 - acc: 0.8025\n",
            "Epoch 192/250\n",
            "3428/3428 [==============================] - 0s 100us/step - loss: 0.4533 - acc: 0.8057\n",
            "Epoch 193/250\n",
            "3428/3428 [==============================] - 0s 97us/step - loss: 0.4547 - acc: 0.8022\n",
            "Epoch 194/250\n",
            "3428/3428 [==============================] - 0s 105us/step - loss: 0.4533 - acc: 0.8037\n",
            "Epoch 195/250\n",
            "3428/3428 [==============================] - 0s 100us/step - loss: 0.4536 - acc: 0.7984\n",
            "Epoch 196/250\n",
            "3428/3428 [==============================] - 0s 97us/step - loss: 0.4516 - acc: 0.8048\n",
            "Epoch 197/250\n",
            "3428/3428 [==============================] - 0s 98us/step - loss: 0.4548 - acc: 0.8054\n",
            "Epoch 198/250\n",
            "3428/3428 [==============================] - 0s 97us/step - loss: 0.4520 - acc: 0.8025\n",
            "Epoch 199/250\n",
            "3428/3428 [==============================] - 0s 97us/step - loss: 0.4522 - acc: 0.8031\n",
            "Epoch 200/250\n",
            "3428/3428 [==============================] - 0s 100us/step - loss: 0.4530 - acc: 0.8008\n",
            "Epoch 201/250\n",
            "3428/3428 [==============================] - 0s 98us/step - loss: 0.4512 - acc: 0.7990\n",
            "Epoch 202/250\n",
            "3428/3428 [==============================] - 0s 98us/step - loss: 0.4530 - acc: 0.8060\n",
            "Epoch 203/250\n",
            "3428/3428 [==============================] - 0s 96us/step - loss: 0.4523 - acc: 0.8025\n",
            "Epoch 204/250\n",
            "3428/3428 [==============================] - 0s 96us/step - loss: 0.4500 - acc: 0.8043\n",
            "Epoch 205/250\n",
            "3428/3428 [==============================] - 0s 97us/step - loss: 0.4543 - acc: 0.8048\n",
            "Epoch 206/250\n",
            "3428/3428 [==============================] - 0s 99us/step - loss: 0.4549 - acc: 0.8037\n",
            "Epoch 207/250\n",
            "3428/3428 [==============================] - 0s 99us/step - loss: 0.4512 - acc: 0.8037\n",
            "Epoch 208/250\n",
            "3428/3428 [==============================] - 0s 98us/step - loss: 0.4548 - acc: 0.8043\n",
            "Epoch 209/250\n",
            "3428/3428 [==============================] - 0s 98us/step - loss: 0.4524 - acc: 0.7993\n",
            "Epoch 210/250\n",
            "3428/3428 [==============================] - 0s 97us/step - loss: 0.4512 - acc: 0.8022\n",
            "Epoch 211/250\n",
            "3428/3428 [==============================] - 0s 99us/step - loss: 0.4521 - acc: 0.8046\n",
            "Epoch 212/250\n",
            "3428/3428 [==============================] - 0s 99us/step - loss: 0.4526 - acc: 0.8016\n",
            "Epoch 213/250\n",
            "3428/3428 [==============================] - 0s 98us/step - loss: 0.4521 - acc: 0.8008\n",
            "Epoch 214/250\n",
            "3428/3428 [==============================] - 0s 98us/step - loss: 0.4522 - acc: 0.8022\n",
            "Epoch 215/250\n",
            "3428/3428 [==============================] - 0s 97us/step - loss: 0.4527 - acc: 0.8011\n",
            "Epoch 216/250\n",
            "3428/3428 [==============================] - 0s 98us/step - loss: 0.4519 - acc: 0.8002\n",
            "Epoch 217/250\n",
            "3428/3428 [==============================] - 0s 98us/step - loss: 0.4512 - acc: 0.8060\n",
            "Epoch 218/250\n",
            "3428/3428 [==============================] - 0s 100us/step - loss: 0.4524 - acc: 0.8034\n",
            "Epoch 219/250\n",
            "3428/3428 [==============================] - 0s 101us/step - loss: 0.4524 - acc: 0.8051\n",
            "Epoch 220/250\n",
            "3428/3428 [==============================] - 0s 100us/step - loss: 0.4517 - acc: 0.8046\n",
            "Epoch 221/250\n",
            "3428/3428 [==============================] - 0s 96us/step - loss: 0.4517 - acc: 0.8013\n",
            "Epoch 222/250\n",
            "3428/3428 [==============================] - 0s 97us/step - loss: 0.4528 - acc: 0.7987\n",
            "Epoch 223/250\n",
            "3428/3428 [==============================] - 0s 98us/step - loss: 0.4516 - acc: 0.8028\n",
            "Epoch 224/250\n",
            "3428/3428 [==============================] - 0s 98us/step - loss: 0.4522 - acc: 0.8008\n",
            "Epoch 225/250\n",
            "3428/3428 [==============================] - 0s 107us/step - loss: 0.4525 - acc: 0.7987\n",
            "Epoch 226/250\n",
            "3428/3428 [==============================] - 0s 99us/step - loss: 0.4522 - acc: 0.8031\n",
            "Epoch 227/250\n",
            "3428/3428 [==============================] - 0s 101us/step - loss: 0.4501 - acc: 0.8034\n",
            "Epoch 228/250\n",
            "3428/3428 [==============================] - 0s 97us/step - loss: 0.4523 - acc: 0.8048\n",
            "Epoch 229/250\n",
            "3428/3428 [==============================] - 0s 98us/step - loss: 0.4522 - acc: 0.8043\n",
            "Epoch 230/250\n",
            "3428/3428 [==============================] - 0s 99us/step - loss: 0.4532 - acc: 0.8025\n",
            "Epoch 231/250\n",
            "3428/3428 [==============================] - 0s 98us/step - loss: 0.4500 - acc: 0.8022\n",
            "Epoch 232/250\n",
            "3428/3428 [==============================] - 0s 97us/step - loss: 0.4497 - acc: 0.8025\n",
            "Epoch 233/250\n",
            "3428/3428 [==============================] - 0s 99us/step - loss: 0.4522 - acc: 0.8051\n",
            "Epoch 234/250\n",
            "3428/3428 [==============================] - 0s 97us/step - loss: 0.4507 - acc: 0.8046\n",
            "Epoch 235/250\n",
            "3428/3428 [==============================] - 0s 97us/step - loss: 0.4500 - acc: 0.8011\n",
            "Epoch 236/250\n",
            "3428/3428 [==============================] - 0s 97us/step - loss: 0.4508 - acc: 0.8022\n",
            "Epoch 237/250\n",
            "3428/3428 [==============================] - 0s 99us/step - loss: 0.4494 - acc: 0.7996\n",
            "Epoch 238/250\n",
            "3428/3428 [==============================] - 0s 99us/step - loss: 0.4507 - acc: 0.8028\n",
            "Epoch 239/250\n",
            "3428/3428 [==============================] - 0s 102us/step - loss: 0.4499 - acc: 0.8031\n",
            "Epoch 240/250\n",
            "3428/3428 [==============================] - 0s 96us/step - loss: 0.4513 - acc: 0.8046\n",
            "Epoch 241/250\n",
            "3428/3428 [==============================] - 0s 99us/step - loss: 0.4498 - acc: 0.8028\n",
            "Epoch 242/250\n",
            "3428/3428 [==============================] - 0s 97us/step - loss: 0.4498 - acc: 0.8069\n",
            "Epoch 243/250\n",
            "3428/3428 [==============================] - 0s 97us/step - loss: 0.4508 - acc: 0.8013\n",
            "Epoch 244/250\n",
            "3428/3428 [==============================] - 0s 98us/step - loss: 0.4505 - acc: 0.8046\n",
            "Epoch 245/250\n",
            "3428/3428 [==============================] - 0s 97us/step - loss: 0.4503 - acc: 0.8022\n",
            "Epoch 246/250\n",
            "3428/3428 [==============================] - 0s 100us/step - loss: 0.4493 - acc: 0.8034\n",
            "Epoch 247/250\n",
            "3428/3428 [==============================] - 0s 98us/step - loss: 0.4498 - acc: 0.8016\n",
            "Epoch 248/250\n",
            "3428/3428 [==============================] - 0s 98us/step - loss: 0.4512 - acc: 0.8011\n",
            "Epoch 249/250\n",
            "3428/3428 [==============================] - 0s 96us/step - loss: 0.4502 - acc: 0.8028\n",
            "Epoch 250/250\n",
            "3428/3428 [==============================] - 0s 97us/step - loss: 0.4487 - acc: 0.8028\n"
          ],
          "name": "stdout"
        },
        {
          "output_type": "execute_result",
          "data": {
            "text/plain": [
              "<keras.callbacks.History at 0x7fc8a7040518>"
            ]
          },
          "metadata": {
            "tags": []
          },
          "execution_count": 27
        }
      ]
    },
    {
      "cell_type": "code",
      "metadata": {
        "id": "fDzQZpWRwiCu",
        "colab_type": "code",
        "colab": {
          "base_uri": "https://localhost:8080/",
          "height": 51
        },
        "outputId": "6980b48c-0144-47d1-d358-0fc0026d6c45"
      },
      "source": [
        "eval_model=classifier.evaluate(X_train, y_train)\n",
        "eval_model"
      ],
      "execution_count": 28,
      "outputs": [
        {
          "output_type": "stream",
          "text": [
            "3428/3428 [==============================] - 0s 17us/step\n"
          ],
          "name": "stdout"
        },
        {
          "output_type": "execute_result",
          "data": {
            "text/plain": [
              "[0.4447525202045641, 0.809801633605601]"
            ]
          },
          "metadata": {
            "tags": []
          },
          "execution_count": 28
        }
      ]
    },
    {
      "cell_type": "code",
      "metadata": {
        "id": "bioWukbAzG7C",
        "colab_type": "code",
        "colab": {
          "base_uri": "https://localhost:8080/",
          "height": 68
        },
        "outputId": "0bc8652c-6ef0-4189-cb5a-1aafadfbca3f"
      },
      "source": [
        "scores = classifier.evaluate(X_test, y_test)\n",
        "print(\"\\nAccuracy: %.2f%%\" % (scores[1]*100))\n",
        "\n"
      ],
      "execution_count": 29,
      "outputs": [
        {
          "output_type": "stream",
          "text": [
            "1470/1470 [==============================] - 0s 19us/step\n",
            "\n",
            "Accuracy: 76.33%\n"
          ],
          "name": "stdout"
        }
      ]
    },
    {
      "cell_type": "markdown",
      "metadata": {
        "id": "bzF54ezj23S8",
        "colab_type": "text"
      },
      "source": [
        "# RED WINE - PREDICTION OF QUALITY USING NEURAL NETWORKS\n"
      ]
    },
    {
      "cell_type": "code",
      "metadata": {
        "id": "uqG02biW02c3",
        "colab_type": "code",
        "colab": {}
      },
      "source": [
        "# Loading the dataset for Red wine\n",
        "df_red = pd.read_csv(\n",
        "    'http://archive.ics.uci.edu/ml/machine-learning-databases/wine-quality/winequality-red.csv', delimiter=\";\")"
      ],
      "execution_count": 0,
      "outputs": []
    },
    {
      "cell_type": "code",
      "metadata": {
        "id": "Ld21ASSk61kZ",
        "colab_type": "code",
        "colab": {
          "base_uri": "https://localhost:8080/",
          "height": 221
        },
        "outputId": "9d46be9c-c0b9-4d25-e7f2-d5ff564710ca"
      },
      "source": [
        "# Checking if the data has loaded properly!\n",
        "df_red.head()"
      ],
      "execution_count": 54,
      "outputs": [
        {
          "output_type": "execute_result",
          "data": {
            "text/html": [
              "<div>\n",
              "<style scoped>\n",
              "    .dataframe tbody tr th:only-of-type {\n",
              "        vertical-align: middle;\n",
              "    }\n",
              "\n",
              "    .dataframe tbody tr th {\n",
              "        vertical-align: top;\n",
              "    }\n",
              "\n",
              "    .dataframe thead th {\n",
              "        text-align: right;\n",
              "    }\n",
              "</style>\n",
              "<table border=\"1\" class=\"dataframe\">\n",
              "  <thead>\n",
              "    <tr style=\"text-align: right;\">\n",
              "      <th></th>\n",
              "      <th>fixed acidity</th>\n",
              "      <th>volatile acidity</th>\n",
              "      <th>citric acid</th>\n",
              "      <th>residual sugar</th>\n",
              "      <th>chlorides</th>\n",
              "      <th>free sulfur dioxide</th>\n",
              "      <th>total sulfur dioxide</th>\n",
              "      <th>density</th>\n",
              "      <th>pH</th>\n",
              "      <th>sulphates</th>\n",
              "      <th>alcohol</th>\n",
              "      <th>quality</th>\n",
              "    </tr>\n",
              "  </thead>\n",
              "  <tbody>\n",
              "    <tr>\n",
              "      <th>0</th>\n",
              "      <td>7.4</td>\n",
              "      <td>0.70</td>\n",
              "      <td>0.00</td>\n",
              "      <td>1.9</td>\n",
              "      <td>0.076</td>\n",
              "      <td>11.0</td>\n",
              "      <td>34.0</td>\n",
              "      <td>0.9978</td>\n",
              "      <td>3.51</td>\n",
              "      <td>0.56</td>\n",
              "      <td>9.4</td>\n",
              "      <td>5</td>\n",
              "    </tr>\n",
              "    <tr>\n",
              "      <th>1</th>\n",
              "      <td>7.8</td>\n",
              "      <td>0.88</td>\n",
              "      <td>0.00</td>\n",
              "      <td>2.6</td>\n",
              "      <td>0.098</td>\n",
              "      <td>25.0</td>\n",
              "      <td>67.0</td>\n",
              "      <td>0.9968</td>\n",
              "      <td>3.20</td>\n",
              "      <td>0.68</td>\n",
              "      <td>9.8</td>\n",
              "      <td>5</td>\n",
              "    </tr>\n",
              "    <tr>\n",
              "      <th>2</th>\n",
              "      <td>7.8</td>\n",
              "      <td>0.76</td>\n",
              "      <td>0.04</td>\n",
              "      <td>2.3</td>\n",
              "      <td>0.092</td>\n",
              "      <td>15.0</td>\n",
              "      <td>54.0</td>\n",
              "      <td>0.9970</td>\n",
              "      <td>3.26</td>\n",
              "      <td>0.65</td>\n",
              "      <td>9.8</td>\n",
              "      <td>5</td>\n",
              "    </tr>\n",
              "    <tr>\n",
              "      <th>3</th>\n",
              "      <td>11.2</td>\n",
              "      <td>0.28</td>\n",
              "      <td>0.56</td>\n",
              "      <td>1.9</td>\n",
              "      <td>0.075</td>\n",
              "      <td>17.0</td>\n",
              "      <td>60.0</td>\n",
              "      <td>0.9980</td>\n",
              "      <td>3.16</td>\n",
              "      <td>0.58</td>\n",
              "      <td>9.8</td>\n",
              "      <td>6</td>\n",
              "    </tr>\n",
              "    <tr>\n",
              "      <th>4</th>\n",
              "      <td>7.4</td>\n",
              "      <td>0.70</td>\n",
              "      <td>0.00</td>\n",
              "      <td>1.9</td>\n",
              "      <td>0.076</td>\n",
              "      <td>11.0</td>\n",
              "      <td>34.0</td>\n",
              "      <td>0.9978</td>\n",
              "      <td>3.51</td>\n",
              "      <td>0.56</td>\n",
              "      <td>9.4</td>\n",
              "      <td>5</td>\n",
              "    </tr>\n",
              "  </tbody>\n",
              "</table>\n",
              "</div>"
            ],
            "text/plain": [
              "   fixed acidity  volatile acidity  citric acid  residual sugar  chlorides  \\\n",
              "0            7.4              0.70         0.00             1.9      0.076   \n",
              "1            7.8              0.88         0.00             2.6      0.098   \n",
              "2            7.8              0.76         0.04             2.3      0.092   \n",
              "3           11.2              0.28         0.56             1.9      0.075   \n",
              "4            7.4              0.70         0.00             1.9      0.076   \n",
              "\n",
              "   free sulfur dioxide  total sulfur dioxide  density    pH  sulphates  \\\n",
              "0                 11.0                  34.0   0.9978  3.51       0.56   \n",
              "1                 25.0                  67.0   0.9968  3.20       0.68   \n",
              "2                 15.0                  54.0   0.9970  3.26       0.65   \n",
              "3                 17.0                  60.0   0.9980  3.16       0.58   \n",
              "4                 11.0                  34.0   0.9978  3.51       0.56   \n",
              "\n",
              "   alcohol  quality  \n",
              "0      9.4        5  \n",
              "1      9.8        5  \n",
              "2      9.8        5  \n",
              "3      9.8        6  \n",
              "4      9.4        5  "
            ]
          },
          "metadata": {
            "tags": []
          },
          "execution_count": 54
        }
      ]
    },
    {
      "cell_type": "code",
      "metadata": {
        "id": "cpM940Pw65lf",
        "colab_type": "code",
        "colab": {
          "base_uri": "https://localhost:8080/",
          "height": 34
        },
        "outputId": "6e8bcc5b-76d9-48bc-9aa4-774bfab98b90"
      },
      "source": [
        " print('shape of the dataset:', df_red.shape)"
      ],
      "execution_count": 55,
      "outputs": [
        {
          "output_type": "stream",
          "text": [
            "shape of the dataset: (1599, 12)\n"
          ],
          "name": "stdout"
        }
      ]
    },
    {
      "cell_type": "code",
      "metadata": {
        "id": "512NyENg69fS",
        "colab_type": "code",
        "colab": {
          "base_uri": "https://localhost:8080/",
          "height": 306
        },
        "outputId": "fb3a421a-5f43-4e7c-e664-f5f3d88fcaf7"
      },
      "source": [
        "df_red.info()"
      ],
      "execution_count": 56,
      "outputs": [
        {
          "output_type": "stream",
          "text": [
            "<class 'pandas.core.frame.DataFrame'>\n",
            "RangeIndex: 1599 entries, 0 to 1598\n",
            "Data columns (total 12 columns):\n",
            "fixed acidity           1599 non-null float64\n",
            "volatile acidity        1599 non-null float64\n",
            "citric acid             1599 non-null float64\n",
            "residual sugar          1599 non-null float64\n",
            "chlorides               1599 non-null float64\n",
            "free sulfur dioxide     1599 non-null float64\n",
            "total sulfur dioxide    1599 non-null float64\n",
            "density                 1599 non-null float64\n",
            "pH                      1599 non-null float64\n",
            "sulphates               1599 non-null float64\n",
            "alcohol                 1599 non-null float64\n",
            "quality                 1599 non-null int64\n",
            "dtypes: float64(11), int64(1)\n",
            "memory usage: 150.0 KB\n"
          ],
          "name": "stdout"
        }
      ]
    },
    {
      "cell_type": "code",
      "metadata": {
        "id": "m6k2g4qR7Cse",
        "colab_type": "code",
        "colab": {
          "base_uri": "https://localhost:8080/",
          "height": 224
        },
        "outputId": "9a97c527-7083-4247-8622-d7bf4d8e25ea"
      },
      "source": [
        "# Renaming the column headers without spaces in the names.\n",
        "df_red.rename(columns={'fixed acidity': 'fixed_acidity','citric acid':'citric_acid',\n",
        "                         'volatile acidity':'volatile_acidity','residual sugar':'residual_sugar',\n",
        "                         'free sulfur dioxide':'free_sulfur_dioxide','total sulfur dioxide':'total_sulfur_dioxide'}, inplace=True)\n",
        "df_red.head(n=5)"
      ],
      "execution_count": 57,
      "outputs": [
        {
          "output_type": "execute_result",
          "data": {
            "text/html": [
              "<div>\n",
              "<style scoped>\n",
              "    .dataframe tbody tr th:only-of-type {\n",
              "        vertical-align: middle;\n",
              "    }\n",
              "\n",
              "    .dataframe tbody tr th {\n",
              "        vertical-align: top;\n",
              "    }\n",
              "\n",
              "    .dataframe thead th {\n",
              "        text-align: right;\n",
              "    }\n",
              "</style>\n",
              "<table border=\"1\" class=\"dataframe\">\n",
              "  <thead>\n",
              "    <tr style=\"text-align: right;\">\n",
              "      <th></th>\n",
              "      <th>fixed_acidity</th>\n",
              "      <th>volatile_acidity</th>\n",
              "      <th>citric_acid</th>\n",
              "      <th>residual_sugar</th>\n",
              "      <th>chlorides</th>\n",
              "      <th>free_sulfur_dioxide</th>\n",
              "      <th>total_sulfur_dioxide</th>\n",
              "      <th>density</th>\n",
              "      <th>pH</th>\n",
              "      <th>sulphates</th>\n",
              "      <th>alcohol</th>\n",
              "      <th>quality</th>\n",
              "    </tr>\n",
              "  </thead>\n",
              "  <tbody>\n",
              "    <tr>\n",
              "      <th>0</th>\n",
              "      <td>7.4</td>\n",
              "      <td>0.70</td>\n",
              "      <td>0.00</td>\n",
              "      <td>1.9</td>\n",
              "      <td>0.076</td>\n",
              "      <td>11.0</td>\n",
              "      <td>34.0</td>\n",
              "      <td>0.9978</td>\n",
              "      <td>3.51</td>\n",
              "      <td>0.56</td>\n",
              "      <td>9.4</td>\n",
              "      <td>5</td>\n",
              "    </tr>\n",
              "    <tr>\n",
              "      <th>1</th>\n",
              "      <td>7.8</td>\n",
              "      <td>0.88</td>\n",
              "      <td>0.00</td>\n",
              "      <td>2.6</td>\n",
              "      <td>0.098</td>\n",
              "      <td>25.0</td>\n",
              "      <td>67.0</td>\n",
              "      <td>0.9968</td>\n",
              "      <td>3.20</td>\n",
              "      <td>0.68</td>\n",
              "      <td>9.8</td>\n",
              "      <td>5</td>\n",
              "    </tr>\n",
              "    <tr>\n",
              "      <th>2</th>\n",
              "      <td>7.8</td>\n",
              "      <td>0.76</td>\n",
              "      <td>0.04</td>\n",
              "      <td>2.3</td>\n",
              "      <td>0.092</td>\n",
              "      <td>15.0</td>\n",
              "      <td>54.0</td>\n",
              "      <td>0.9970</td>\n",
              "      <td>3.26</td>\n",
              "      <td>0.65</td>\n",
              "      <td>9.8</td>\n",
              "      <td>5</td>\n",
              "    </tr>\n",
              "    <tr>\n",
              "      <th>3</th>\n",
              "      <td>11.2</td>\n",
              "      <td>0.28</td>\n",
              "      <td>0.56</td>\n",
              "      <td>1.9</td>\n",
              "      <td>0.075</td>\n",
              "      <td>17.0</td>\n",
              "      <td>60.0</td>\n",
              "      <td>0.9980</td>\n",
              "      <td>3.16</td>\n",
              "      <td>0.58</td>\n",
              "      <td>9.8</td>\n",
              "      <td>6</td>\n",
              "    </tr>\n",
              "    <tr>\n",
              "      <th>4</th>\n",
              "      <td>7.4</td>\n",
              "      <td>0.70</td>\n",
              "      <td>0.00</td>\n",
              "      <td>1.9</td>\n",
              "      <td>0.076</td>\n",
              "      <td>11.0</td>\n",
              "      <td>34.0</td>\n",
              "      <td>0.9978</td>\n",
              "      <td>3.51</td>\n",
              "      <td>0.56</td>\n",
              "      <td>9.4</td>\n",
              "      <td>5</td>\n",
              "    </tr>\n",
              "  </tbody>\n",
              "</table>\n",
              "</div>"
            ],
            "text/plain": [
              "   fixed_acidity  volatile_acidity  citric_acid  residual_sugar  chlorides  \\\n",
              "0            7.4              0.70         0.00             1.9      0.076   \n",
              "1            7.8              0.88         0.00             2.6      0.098   \n",
              "2            7.8              0.76         0.04             2.3      0.092   \n",
              "3           11.2              0.28         0.56             1.9      0.075   \n",
              "4            7.4              0.70         0.00             1.9      0.076   \n",
              "\n",
              "   free_sulfur_dioxide  total_sulfur_dioxide  density    pH  sulphates  \\\n",
              "0                 11.0                  34.0   0.9978  3.51       0.56   \n",
              "1                 25.0                  67.0   0.9968  3.20       0.68   \n",
              "2                 15.0                  54.0   0.9970  3.26       0.65   \n",
              "3                 17.0                  60.0   0.9980  3.16       0.58   \n",
              "4                 11.0                  34.0   0.9978  3.51       0.56   \n",
              "\n",
              "   alcohol  quality  \n",
              "0      9.4        5  \n",
              "1      9.8        5  \n",
              "2      9.8        5  \n",
              "3      9.8        6  \n",
              "4      9.4        5  "
            ]
          },
          "metadata": {
            "tags": []
          },
          "execution_count": 57
        }
      ]
    },
    {
      "cell_type": "code",
      "metadata": {
        "id": "pD4WQSek7IUR",
        "colab_type": "code",
        "colab": {
          "base_uri": "https://localhost:8080/",
          "height": 34
        },
        "outputId": "251818ba-14c4-4171-c118-60704dc13fc7"
      },
      "source": [
        "df_red.quality.unique()"
      ],
      "execution_count": 58,
      "outputs": [
        {
          "output_type": "execute_result",
          "data": {
            "text/plain": [
              "array([5, 6, 7, 4, 8, 3])"
            ]
          },
          "metadata": {
            "tags": []
          },
          "execution_count": 58
        }
      ]
    },
    {
      "cell_type": "code",
      "metadata": {
        "id": "Zt1QarY17Oy5",
        "colab_type": "code",
        "colab": {
          "base_uri": "https://localhost:8080/",
          "height": 136
        },
        "outputId": "d92de573-e78c-41ce-8edd-7af8dacec21b"
      },
      "source": [
        "df_red.quality.value_counts().sort_index()"
      ],
      "execution_count": 59,
      "outputs": [
        {
          "output_type": "execute_result",
          "data": {
            "text/plain": [
              "3     10\n",
              "4     53\n",
              "5    681\n",
              "6    638\n",
              "7    199\n",
              "8     18\n",
              "Name: quality, dtype: int64"
            ]
          },
          "metadata": {
            "tags": []
          },
          "execution_count": 59
        }
      ]
    },
    {
      "cell_type": "code",
      "metadata": {
        "id": "MbXu8exF7-JU",
        "colab_type": "code",
        "colab": {}
      },
      "source": [
        "df_red.loc[df_red['quality'] < 5, 'quality'] = 1\n",
        "df_red.loc[df_red['quality'] == 5, 'quality'] = 2\n",
        "df_red.loc[df_red['quality'] == 6, 'quality'] = 2\n",
        "df_red.loc[df_red['quality'] > 6, 'quality'] = 3"
      ],
      "execution_count": 0,
      "outputs": []
    },
    {
      "cell_type": "code",
      "metadata": {
        "id": "lUJ9qXeA8GT_",
        "colab_type": "code",
        "colab": {
          "base_uri": "https://localhost:8080/",
          "height": 34
        },
        "outputId": "93f0324d-ac02-402c-f1c6-860b579b336c"
      },
      "source": [
        "df_red.quality.unique()"
      ],
      "execution_count": 61,
      "outputs": [
        {
          "output_type": "execute_result",
          "data": {
            "text/plain": [
              "array([2, 3, 1])"
            ]
          },
          "metadata": {
            "tags": []
          },
          "execution_count": 61
        }
      ]
    },
    {
      "cell_type": "code",
      "metadata": {
        "id": "01QDcRTs8Nlu",
        "colab_type": "code",
        "colab": {
          "base_uri": "https://localhost:8080/",
          "height": 85
        },
        "outputId": "9701ab37-d5b9-4630-f0fe-c2526757a65e"
      },
      "source": [
        "df_white.quality.value_counts().sort_index()"
      ],
      "execution_count": 62,
      "outputs": [
        {
          "output_type": "execute_result",
          "data": {
            "text/plain": [
              "1     183\n",
              "2    3655\n",
              "3    1060\n",
              "Name: quality, dtype: int64"
            ]
          },
          "metadata": {
            "tags": []
          },
          "execution_count": 62
        }
      ]
    },
    {
      "cell_type": "code",
      "metadata": {
        "id": "o3EjtGpk7TTY",
        "colab_type": "code",
        "colab": {}
      },
      "source": [
        "np.random.seed(3)"
      ],
      "execution_count": 0,
      "outputs": []
    },
    {
      "cell_type": "code",
      "metadata": {
        "id": "J9MxRjsS7X1p",
        "colab_type": "code",
        "colab": {}
      },
      "source": [
        "# Number of classes for quality ( Poor, Average, Best)\n",
        "classes = 3"
      ],
      "execution_count": 0,
      "outputs": []
    },
    {
      "cell_type": "code",
      "metadata": {
        "id": "j9GmsuNh7dmE",
        "colab_type": "code",
        "colab": {}
      },
      "source": [
        "# Splitting quality into y and keeping the rest of features in X\n",
        "X = df_red.iloc[:,0:11]\n",
        "y = df_red.iloc[:,11]"
      ],
      "execution_count": 0,
      "outputs": []
    },
    {
      "cell_type": "code",
      "metadata": {
        "id": "01S0iFIn7jDB",
        "colab_type": "code",
        "colab": {
          "base_uri": "https://localhost:8080/",
          "height": 204
        },
        "outputId": "1d9b9f76-2840-4bac-923a-744ff9c31582"
      },
      "source": [
        "X.head()"
      ],
      "execution_count": 66,
      "outputs": [
        {
          "output_type": "execute_result",
          "data": {
            "text/html": [
              "<div>\n",
              "<style scoped>\n",
              "    .dataframe tbody tr th:only-of-type {\n",
              "        vertical-align: middle;\n",
              "    }\n",
              "\n",
              "    .dataframe tbody tr th {\n",
              "        vertical-align: top;\n",
              "    }\n",
              "\n",
              "    .dataframe thead th {\n",
              "        text-align: right;\n",
              "    }\n",
              "</style>\n",
              "<table border=\"1\" class=\"dataframe\">\n",
              "  <thead>\n",
              "    <tr style=\"text-align: right;\">\n",
              "      <th></th>\n",
              "      <th>fixed_acidity</th>\n",
              "      <th>volatile_acidity</th>\n",
              "      <th>citric_acid</th>\n",
              "      <th>residual_sugar</th>\n",
              "      <th>chlorides</th>\n",
              "      <th>free_sulfur_dioxide</th>\n",
              "      <th>total_sulfur_dioxide</th>\n",
              "      <th>density</th>\n",
              "      <th>pH</th>\n",
              "      <th>sulphates</th>\n",
              "      <th>alcohol</th>\n",
              "    </tr>\n",
              "  </thead>\n",
              "  <tbody>\n",
              "    <tr>\n",
              "      <th>0</th>\n",
              "      <td>7.4</td>\n",
              "      <td>0.70</td>\n",
              "      <td>0.00</td>\n",
              "      <td>1.9</td>\n",
              "      <td>0.076</td>\n",
              "      <td>11.0</td>\n",
              "      <td>34.0</td>\n",
              "      <td>0.9978</td>\n",
              "      <td>3.51</td>\n",
              "      <td>0.56</td>\n",
              "      <td>9.4</td>\n",
              "    </tr>\n",
              "    <tr>\n",
              "      <th>1</th>\n",
              "      <td>7.8</td>\n",
              "      <td>0.88</td>\n",
              "      <td>0.00</td>\n",
              "      <td>2.6</td>\n",
              "      <td>0.098</td>\n",
              "      <td>25.0</td>\n",
              "      <td>67.0</td>\n",
              "      <td>0.9968</td>\n",
              "      <td>3.20</td>\n",
              "      <td>0.68</td>\n",
              "      <td>9.8</td>\n",
              "    </tr>\n",
              "    <tr>\n",
              "      <th>2</th>\n",
              "      <td>7.8</td>\n",
              "      <td>0.76</td>\n",
              "      <td>0.04</td>\n",
              "      <td>2.3</td>\n",
              "      <td>0.092</td>\n",
              "      <td>15.0</td>\n",
              "      <td>54.0</td>\n",
              "      <td>0.9970</td>\n",
              "      <td>3.26</td>\n",
              "      <td>0.65</td>\n",
              "      <td>9.8</td>\n",
              "    </tr>\n",
              "    <tr>\n",
              "      <th>3</th>\n",
              "      <td>11.2</td>\n",
              "      <td>0.28</td>\n",
              "      <td>0.56</td>\n",
              "      <td>1.9</td>\n",
              "      <td>0.075</td>\n",
              "      <td>17.0</td>\n",
              "      <td>60.0</td>\n",
              "      <td>0.9980</td>\n",
              "      <td>3.16</td>\n",
              "      <td>0.58</td>\n",
              "      <td>9.8</td>\n",
              "    </tr>\n",
              "    <tr>\n",
              "      <th>4</th>\n",
              "      <td>7.4</td>\n",
              "      <td>0.70</td>\n",
              "      <td>0.00</td>\n",
              "      <td>1.9</td>\n",
              "      <td>0.076</td>\n",
              "      <td>11.0</td>\n",
              "      <td>34.0</td>\n",
              "      <td>0.9978</td>\n",
              "      <td>3.51</td>\n",
              "      <td>0.56</td>\n",
              "      <td>9.4</td>\n",
              "    </tr>\n",
              "  </tbody>\n",
              "</table>\n",
              "</div>"
            ],
            "text/plain": [
              "   fixed_acidity  volatile_acidity  citric_acid  residual_sugar  chlorides  \\\n",
              "0            7.4              0.70         0.00             1.9      0.076   \n",
              "1            7.8              0.88         0.00             2.6      0.098   \n",
              "2            7.8              0.76         0.04             2.3      0.092   \n",
              "3           11.2              0.28         0.56             1.9      0.075   \n",
              "4            7.4              0.70         0.00             1.9      0.076   \n",
              "\n",
              "   free_sulfur_dioxide  total_sulfur_dioxide  density    pH  sulphates  \\\n",
              "0                 11.0                  34.0   0.9978  3.51       0.56   \n",
              "1                 25.0                  67.0   0.9968  3.20       0.68   \n",
              "2                 15.0                  54.0   0.9970  3.26       0.65   \n",
              "3                 17.0                  60.0   0.9980  3.16       0.58   \n",
              "4                 11.0                  34.0   0.9978  3.51       0.56   \n",
              "\n",
              "   alcohol  \n",
              "0      9.4  \n",
              "1      9.8  \n",
              "2      9.8  \n",
              "3      9.8  \n",
              "4      9.4  "
            ]
          },
          "metadata": {
            "tags": []
          },
          "execution_count": 66
        }
      ]
    },
    {
      "cell_type": "code",
      "metadata": {
        "id": "A5A1n7zl7lL3",
        "colab_type": "code",
        "colab": {
          "base_uri": "https://localhost:8080/",
          "height": 119
        },
        "outputId": "65cd1dc1-6e35-48a1-e19e-04046351e327"
      },
      "source": [
        "y.head()"
      ],
      "execution_count": 67,
      "outputs": [
        {
          "output_type": "execute_result",
          "data": {
            "text/plain": [
              "0    2\n",
              "1    2\n",
              "2    2\n",
              "3    2\n",
              "4    2\n",
              "Name: quality, dtype: int64"
            ]
          },
          "metadata": {
            "tags": []
          },
          "execution_count": 67
        }
      ]
    },
    {
      "cell_type": "code",
      "metadata": {
        "id": "1T_EfC3t7m12",
        "colab_type": "code",
        "colab": {}
      },
      "source": [
        "#standardizing the input feature\n",
        "from sklearn.preprocessing import StandardScaler\n",
        "sc = StandardScaler()\n",
        "X = sc.fit_transform(X)\n"
      ],
      "execution_count": 0,
      "outputs": []
    },
    {
      "cell_type": "code",
      "metadata": {
        "id": "q8ZkOe1n7tlU",
        "colab_type": "code",
        "colab": {}
      },
      "source": [
        "from sklearn.model_selection import train_test_split\n",
        "X_train, X_test, y_train, y_test = train_test_split(X, y, test_size=0.3)"
      ],
      "execution_count": 0,
      "outputs": []
    },
    {
      "cell_type": "code",
      "metadata": {
        "id": "MEthnL2u7ww2",
        "colab_type": "code",
        "colab": {}
      },
      "source": [
        "# one hot-encoding\n",
        "y_train = keras.utils.to_categorical(y_train-1, classes)\n",
        "y_test = keras.utils.to_categorical(y_test-1, classes)"
      ],
      "execution_count": 0,
      "outputs": []
    },
    {
      "cell_type": "code",
      "metadata": {
        "id": "vQJgQrvQ8uJV",
        "colab_type": "code",
        "colab": {}
      },
      "source": [
        "classifier = Sequential()\n",
        "# First Hidden Layer\n",
        "classifier.add(Dense(10, activation='relu', kernel_initializer='random_normal', input_dim=11))\n",
        "# Second  Hidden Layer\n",
        "classifier.add(Dense(10, activation='relu', kernel_initializer='random_normal'))\n",
        "# Output Layer\n",
        "classifier.add(Dense(3, activation='softmax', kernel_initializer='random_normal'))"
      ],
      "execution_count": 0,
      "outputs": []
    },
    {
      "cell_type": "code",
      "metadata": {
        "id": "f3SFzUjY8xUm",
        "colab_type": "code",
        "colab": {}
      },
      "source": [
        "# Compiling the neural network\n",
        "classifier.compile(optimizer ='adam',loss='categorical_crossentropy', metrics =['accuracy'])"
      ],
      "execution_count": 0,
      "outputs": []
    },
    {
      "cell_type": "code",
      "metadata": {
        "id": "OQbBNeLM80cT",
        "colab_type": "code",
        "colab": {
          "base_uri": "https://localhost:8080/",
          "height": 8534
        },
        "outputId": "00e39694-ec5f-4f47-9b88-70f5c66809c3"
      },
      "source": [
        "# Fitting the data to the training dataset\n",
        "classifier.fit(X_train,y_train, batch_size=10, epochs=250)"
      ],
      "execution_count": 74,
      "outputs": [
        {
          "output_type": "stream",
          "text": [
            "Epoch 1/250\n",
            "1119/1119 [==============================] - 0s 130us/step - loss: 0.3440 - acc: 0.8543\n",
            "Epoch 2/250\n",
            "1119/1119 [==============================] - 0s 127us/step - loss: 0.3432 - acc: 0.8534\n",
            "Epoch 3/250\n",
            "1119/1119 [==============================] - 0s 126us/step - loss: 0.3437 - acc: 0.8525\n",
            "Epoch 4/250\n",
            "1119/1119 [==============================] - 0s 132us/step - loss: 0.3435 - acc: 0.8534\n",
            "Epoch 5/250\n",
            "1119/1119 [==============================] - 0s 130us/step - loss: 0.3434 - acc: 0.8588\n",
            "Epoch 6/250\n",
            "1119/1119 [==============================] - 0s 128us/step - loss: 0.3411 - acc: 0.8597\n",
            "Epoch 7/250\n",
            "1119/1119 [==============================] - 0s 145us/step - loss: 0.3422 - acc: 0.8534\n",
            "Epoch 8/250\n",
            "1119/1119 [==============================] - 0s 120us/step - loss: 0.3412 - acc: 0.8561\n",
            "Epoch 9/250\n",
            "1119/1119 [==============================] - 0s 121us/step - loss: 0.3422 - acc: 0.8561\n",
            "Epoch 10/250\n",
            "1119/1119 [==============================] - 0s 129us/step - loss: 0.3415 - acc: 0.8561\n",
            "Epoch 11/250\n",
            "1119/1119 [==============================] - 0s 127us/step - loss: 0.3422 - acc: 0.8561\n",
            "Epoch 12/250\n",
            "1119/1119 [==============================] - 0s 127us/step - loss: 0.3417 - acc: 0.8624\n",
            "Epoch 13/250\n",
            "1119/1119 [==============================] - 0s 131us/step - loss: 0.3384 - acc: 0.8552\n",
            "Epoch 14/250\n",
            "1119/1119 [==============================] - 0s 129us/step - loss: 0.3387 - acc: 0.8543\n",
            "Epoch 15/250\n",
            "1119/1119 [==============================] - 0s 124us/step - loss: 0.3398 - acc: 0.8534\n",
            "Epoch 16/250\n",
            "1119/1119 [==============================] - 0s 126us/step - loss: 0.3392 - acc: 0.8570\n",
            "Epoch 17/250\n",
            "1119/1119 [==============================] - 0s 113us/step - loss: 0.3390 - acc: 0.8561\n",
            "Epoch 18/250\n",
            "1119/1119 [==============================] - 0s 99us/step - loss: 0.3380 - acc: 0.8552\n",
            "Epoch 19/250\n",
            "1119/1119 [==============================] - 0s 102us/step - loss: 0.3384 - acc: 0.8552\n",
            "Epoch 20/250\n",
            "1119/1119 [==============================] - 0s 103us/step - loss: 0.3375 - acc: 0.8561\n",
            "Epoch 21/250\n",
            "1119/1119 [==============================] - 0s 100us/step - loss: 0.3402 - acc: 0.8543\n",
            "Epoch 22/250\n",
            "1119/1119 [==============================] - 0s 102us/step - loss: 0.3386 - acc: 0.8579\n",
            "Epoch 23/250\n",
            "1119/1119 [==============================] - 0s 102us/step - loss: 0.3367 - acc: 0.8561\n",
            "Epoch 24/250\n",
            "1119/1119 [==============================] - 0s 100us/step - loss: 0.3380 - acc: 0.8543\n",
            "Epoch 25/250\n",
            "1119/1119 [==============================] - 0s 103us/step - loss: 0.3369 - acc: 0.8570\n",
            "Epoch 26/250\n",
            "1119/1119 [==============================] - 0s 103us/step - loss: 0.3381 - acc: 0.8552\n",
            "Epoch 27/250\n",
            "1119/1119 [==============================] - 0s 100us/step - loss: 0.3384 - acc: 0.8579\n",
            "Epoch 28/250\n",
            "1119/1119 [==============================] - 0s 100us/step - loss: 0.3364 - acc: 0.8552\n",
            "Epoch 29/250\n",
            "1119/1119 [==============================] - 0s 100us/step - loss: 0.3373 - acc: 0.8624\n",
            "Epoch 30/250\n",
            "1119/1119 [==============================] - 0s 102us/step - loss: 0.3360 - acc: 0.8534\n",
            "Epoch 31/250\n",
            "1119/1119 [==============================] - 0s 96us/step - loss: 0.3372 - acc: 0.8597\n",
            "Epoch 32/250\n",
            "1119/1119 [==============================] - 0s 101us/step - loss: 0.3364 - acc: 0.8570\n",
            "Epoch 33/250\n",
            "1119/1119 [==============================] - 0s 102us/step - loss: 0.3368 - acc: 0.8588\n",
            "Epoch 34/250\n",
            "1119/1119 [==============================] - 0s 102us/step - loss: 0.3351 - acc: 0.8552\n",
            "Epoch 35/250\n",
            "1119/1119 [==============================] - 0s 102us/step - loss: 0.3348 - acc: 0.8588\n",
            "Epoch 36/250\n",
            "1119/1119 [==============================] - 0s 102us/step - loss: 0.3331 - acc: 0.8552\n",
            "Epoch 37/250\n",
            "1119/1119 [==============================] - 0s 102us/step - loss: 0.3349 - acc: 0.8561\n",
            "Epoch 38/250\n",
            "1119/1119 [==============================] - 0s 100us/step - loss: 0.3334 - acc: 0.8543\n",
            "Epoch 39/250\n",
            "1119/1119 [==============================] - 0s 100us/step - loss: 0.3329 - acc: 0.8570\n",
            "Epoch 40/250\n",
            "1119/1119 [==============================] - 0s 102us/step - loss: 0.3336 - acc: 0.8588\n",
            "Epoch 41/250\n",
            "1119/1119 [==============================] - 0s 101us/step - loss: 0.3326 - acc: 0.8561\n",
            "Epoch 42/250\n",
            "1119/1119 [==============================] - 0s 103us/step - loss: 0.3330 - acc: 0.8579\n",
            "Epoch 43/250\n",
            "1119/1119 [==============================] - 0s 102us/step - loss: 0.3319 - acc: 0.8561\n",
            "Epoch 44/250\n",
            "1119/1119 [==============================] - 0s 100us/step - loss: 0.3321 - acc: 0.8543\n",
            "Epoch 45/250\n",
            "1119/1119 [==============================] - 0s 100us/step - loss: 0.3331 - acc: 0.8660\n",
            "Epoch 46/250\n",
            "1119/1119 [==============================] - 0s 101us/step - loss: 0.3317 - acc: 0.8588\n",
            "Epoch 47/250\n",
            "1119/1119 [==============================] - 0s 102us/step - loss: 0.3315 - acc: 0.8579\n",
            "Epoch 48/250\n",
            "1119/1119 [==============================] - 0s 101us/step - loss: 0.3299 - acc: 0.8579\n",
            "Epoch 49/250\n",
            "1119/1119 [==============================] - 0s 98us/step - loss: 0.3303 - acc: 0.8543\n",
            "Epoch 50/250\n",
            "1119/1119 [==============================] - 0s 101us/step - loss: 0.3310 - acc: 0.8561\n",
            "Epoch 51/250\n",
            "1119/1119 [==============================] - 0s 104us/step - loss: 0.3319 - acc: 0.8624\n",
            "Epoch 52/250\n",
            "1119/1119 [==============================] - 0s 102us/step - loss: 0.3296 - acc: 0.8561\n",
            "Epoch 53/250\n",
            "1119/1119 [==============================] - 0s 105us/step - loss: 0.3288 - acc: 0.8615\n",
            "Epoch 54/250\n",
            "1119/1119 [==============================] - 0s 99us/step - loss: 0.3296 - acc: 0.8615\n",
            "Epoch 55/250\n",
            "1119/1119 [==============================] - 0s 100us/step - loss: 0.3300 - acc: 0.8588\n",
            "Epoch 56/250\n",
            "1119/1119 [==============================] - 0s 101us/step - loss: 0.3292 - acc: 0.8588\n",
            "Epoch 57/250\n",
            "1119/1119 [==============================] - 0s 100us/step - loss: 0.3288 - acc: 0.8651\n",
            "Epoch 58/250\n",
            "1119/1119 [==============================] - 0s 101us/step - loss: 0.3293 - acc: 0.8615\n",
            "Epoch 59/250\n",
            "1119/1119 [==============================] - 0s 100us/step - loss: 0.3285 - acc: 0.8624\n",
            "Epoch 60/250\n",
            "1119/1119 [==============================] - 0s 102us/step - loss: 0.3293 - acc: 0.8579\n",
            "Epoch 61/250\n",
            "1119/1119 [==============================] - 0s 101us/step - loss: 0.3262 - acc: 0.8615\n",
            "Epoch 62/250\n",
            "1119/1119 [==============================] - 0s 101us/step - loss: 0.3272 - acc: 0.8615\n",
            "Epoch 63/250\n",
            "1119/1119 [==============================] - 0s 102us/step - loss: 0.3263 - acc: 0.8579\n",
            "Epoch 64/250\n",
            "1119/1119 [==============================] - 0s 102us/step - loss: 0.3270 - acc: 0.8606\n",
            "Epoch 65/250\n",
            "1119/1119 [==============================] - 0s 101us/step - loss: 0.3307 - acc: 0.8606\n",
            "Epoch 66/250\n",
            "1119/1119 [==============================] - 0s 103us/step - loss: 0.3250 - acc: 0.8588\n",
            "Epoch 67/250\n",
            "1119/1119 [==============================] - 0s 100us/step - loss: 0.3267 - acc: 0.8660\n",
            "Epoch 68/250\n",
            "1119/1119 [==============================] - 0s 101us/step - loss: 0.3263 - acc: 0.8633\n",
            "Epoch 69/250\n",
            "1119/1119 [==============================] - 0s 98us/step - loss: 0.3253 - acc: 0.8570\n",
            "Epoch 70/250\n",
            "1119/1119 [==============================] - 0s 100us/step - loss: 0.3260 - acc: 0.8633\n",
            "Epoch 71/250\n",
            "1119/1119 [==============================] - 0s 102us/step - loss: 0.3253 - acc: 0.8615\n",
            "Epoch 72/250\n",
            "1119/1119 [==============================] - 0s 117us/step - loss: 0.3258 - acc: 0.8677\n",
            "Epoch 73/250\n",
            "1119/1119 [==============================] - 0s 108us/step - loss: 0.3241 - acc: 0.8561\n",
            "Epoch 74/250\n",
            "1119/1119 [==============================] - 0s 108us/step - loss: 0.3256 - acc: 0.8615\n",
            "Epoch 75/250\n",
            "1119/1119 [==============================] - 0s 104us/step - loss: 0.3235 - acc: 0.8579\n",
            "Epoch 76/250\n",
            "1119/1119 [==============================] - 0s 104us/step - loss: 0.3228 - acc: 0.8606\n",
            "Epoch 77/250\n",
            "1119/1119 [==============================] - 0s 101us/step - loss: 0.3227 - acc: 0.8642\n",
            "Epoch 78/250\n",
            "1119/1119 [==============================] - 0s 103us/step - loss: 0.3215 - acc: 0.8651\n",
            "Epoch 79/250\n",
            "1119/1119 [==============================] - 0s 103us/step - loss: 0.3242 - acc: 0.8597\n",
            "Epoch 80/250\n",
            "1119/1119 [==============================] - 0s 99us/step - loss: 0.3250 - acc: 0.8615\n",
            "Epoch 81/250\n",
            "1119/1119 [==============================] - 0s 103us/step - loss: 0.3237 - acc: 0.8651\n",
            "Epoch 82/250\n",
            "1119/1119 [==============================] - 0s 104us/step - loss: 0.3236 - acc: 0.8642\n",
            "Epoch 83/250\n",
            "1119/1119 [==============================] - 0s 101us/step - loss: 0.3224 - acc: 0.8651\n",
            "Epoch 84/250\n",
            "1119/1119 [==============================] - 0s 108us/step - loss: 0.3212 - acc: 0.8606\n",
            "Epoch 85/250\n",
            "1119/1119 [==============================] - 0s 106us/step - loss: 0.3237 - acc: 0.8642\n",
            "Epoch 86/250\n",
            "1119/1119 [==============================] - 0s 103us/step - loss: 0.3217 - acc: 0.8660\n",
            "Epoch 87/250\n",
            "1119/1119 [==============================] - 0s 104us/step - loss: 0.3215 - acc: 0.8624\n",
            "Epoch 88/250\n",
            "1119/1119 [==============================] - 0s 104us/step - loss: 0.3197 - acc: 0.8615\n",
            "Epoch 89/250\n",
            "1119/1119 [==============================] - 0s 104us/step - loss: 0.3223 - acc: 0.8633\n",
            "Epoch 90/250\n",
            "1119/1119 [==============================] - 0s 102us/step - loss: 0.3208 - acc: 0.8615\n",
            "Epoch 91/250\n",
            "1119/1119 [==============================] - 0s 102us/step - loss: 0.3211 - acc: 0.8633\n",
            "Epoch 92/250\n",
            "1119/1119 [==============================] - 0s 100us/step - loss: 0.3213 - acc: 0.8642\n",
            "Epoch 93/250\n",
            "1119/1119 [==============================] - 0s 103us/step - loss: 0.3206 - acc: 0.8624\n",
            "Epoch 94/250\n",
            "1119/1119 [==============================] - 0s 103us/step - loss: 0.3205 - acc: 0.8579\n",
            "Epoch 95/250\n",
            "1119/1119 [==============================] - 0s 103us/step - loss: 0.3195 - acc: 0.8651\n",
            "Epoch 96/250\n",
            "1119/1119 [==============================] - 0s 103us/step - loss: 0.3184 - acc: 0.8651\n",
            "Epoch 97/250\n",
            "1119/1119 [==============================] - 0s 105us/step - loss: 0.3186 - acc: 0.8579\n",
            "Epoch 98/250\n",
            "1119/1119 [==============================] - 0s 104us/step - loss: 0.3201 - acc: 0.8570\n",
            "Epoch 99/250\n",
            "1119/1119 [==============================] - 0s 103us/step - loss: 0.3199 - acc: 0.8660\n",
            "Epoch 100/250\n",
            "1119/1119 [==============================] - 0s 107us/step - loss: 0.3210 - acc: 0.8570\n",
            "Epoch 101/250\n",
            "1119/1119 [==============================] - 0s 104us/step - loss: 0.3186 - acc: 0.8660\n",
            "Epoch 102/250\n",
            "1119/1119 [==============================] - 0s 109us/step - loss: 0.3190 - acc: 0.8615\n",
            "Epoch 103/250\n",
            "1119/1119 [==============================] - 0s 104us/step - loss: 0.3200 - acc: 0.8633\n",
            "Epoch 104/250\n",
            "1119/1119 [==============================] - 0s 106us/step - loss: 0.3193 - acc: 0.8615\n",
            "Epoch 105/250\n",
            "1119/1119 [==============================] - 0s 103us/step - loss: 0.3170 - acc: 0.8615\n",
            "Epoch 106/250\n",
            "1119/1119 [==============================] - 0s 101us/step - loss: 0.3188 - acc: 0.8686\n",
            "Epoch 107/250\n",
            "1119/1119 [==============================] - 0s 103us/step - loss: 0.3197 - acc: 0.8615\n",
            "Epoch 108/250\n",
            "1119/1119 [==============================] - 0s 101us/step - loss: 0.3178 - acc: 0.8624\n",
            "Epoch 109/250\n",
            "1119/1119 [==============================] - 0s 104us/step - loss: 0.3180 - acc: 0.8633\n",
            "Epoch 110/250\n",
            "1119/1119 [==============================] - 0s 103us/step - loss: 0.3156 - acc: 0.8677\n",
            "Epoch 111/250\n",
            "1119/1119 [==============================] - 0s 103us/step - loss: 0.3185 - acc: 0.8642\n",
            "Epoch 112/250\n",
            "1119/1119 [==============================] - 0s 101us/step - loss: 0.3191 - acc: 0.8606\n",
            "Epoch 113/250\n",
            "1119/1119 [==============================] - 0s 103us/step - loss: 0.3174 - acc: 0.8633\n",
            "Epoch 114/250\n",
            "1119/1119 [==============================] - 0s 102us/step - loss: 0.3173 - acc: 0.8606\n",
            "Epoch 115/250\n",
            "1119/1119 [==============================] - 0s 102us/step - loss: 0.3190 - acc: 0.8588\n",
            "Epoch 116/250\n",
            "1119/1119 [==============================] - 0s 102us/step - loss: 0.3181 - acc: 0.8624\n",
            "Epoch 117/250\n",
            "1119/1119 [==============================] - 0s 108us/step - loss: 0.3171 - acc: 0.8615\n",
            "Epoch 118/250\n",
            "1119/1119 [==============================] - 0s 106us/step - loss: 0.3180 - acc: 0.8606\n",
            "Epoch 119/250\n",
            "1119/1119 [==============================] - 0s 103us/step - loss: 0.3168 - acc: 0.8597\n",
            "Epoch 120/250\n",
            "1119/1119 [==============================] - 0s 106us/step - loss: 0.3165 - acc: 0.8615\n",
            "Epoch 121/250\n",
            "1119/1119 [==============================] - 0s 106us/step - loss: 0.3166 - acc: 0.8624\n",
            "Epoch 122/250\n",
            "1119/1119 [==============================] - 0s 104us/step - loss: 0.3177 - acc: 0.8633\n",
            "Epoch 123/250\n",
            "1119/1119 [==============================] - 0s 104us/step - loss: 0.3149 - acc: 0.8660\n",
            "Epoch 124/250\n",
            "1119/1119 [==============================] - 0s 102us/step - loss: 0.3152 - acc: 0.8642\n",
            "Epoch 125/250\n",
            "1119/1119 [==============================] - 0s 100us/step - loss: 0.3154 - acc: 0.8651\n",
            "Epoch 126/250\n",
            "1119/1119 [==============================] - 0s 103us/step - loss: 0.3148 - acc: 0.8597\n",
            "Epoch 127/250\n",
            "1119/1119 [==============================] - 0s 105us/step - loss: 0.3154 - acc: 0.8668\n",
            "Epoch 128/250\n",
            "1119/1119 [==============================] - 0s 104us/step - loss: 0.3147 - acc: 0.8695\n",
            "Epoch 129/250\n",
            "1119/1119 [==============================] - 0s 101us/step - loss: 0.3154 - acc: 0.8642\n",
            "Epoch 130/250\n",
            "1119/1119 [==============================] - 0s 102us/step - loss: 0.3149 - acc: 0.8624\n",
            "Epoch 131/250\n",
            "1119/1119 [==============================] - 0s 101us/step - loss: 0.3152 - acc: 0.8633\n",
            "Epoch 132/250\n",
            "1119/1119 [==============================] - 0s 103us/step - loss: 0.3152 - acc: 0.8651\n",
            "Epoch 133/250\n",
            "1119/1119 [==============================] - 0s 104us/step - loss: 0.3143 - acc: 0.8615\n",
            "Epoch 134/250\n",
            "1119/1119 [==============================] - 0s 102us/step - loss: 0.3134 - acc: 0.8686\n",
            "Epoch 135/250\n",
            "1119/1119 [==============================] - 0s 105us/step - loss: 0.3145 - acc: 0.8660\n",
            "Epoch 136/250\n",
            "1119/1119 [==============================] - 0s 102us/step - loss: 0.3137 - acc: 0.8633\n",
            "Epoch 137/250\n",
            "1119/1119 [==============================] - 0s 102us/step - loss: 0.3138 - acc: 0.8633\n",
            "Epoch 138/250\n",
            "1119/1119 [==============================] - 0s 101us/step - loss: 0.3135 - acc: 0.8615\n",
            "Epoch 139/250\n",
            "1119/1119 [==============================] - 0s 102us/step - loss: 0.3130 - acc: 0.8606\n",
            "Epoch 140/250\n",
            "1119/1119 [==============================] - 0s 98us/step - loss: 0.3144 - acc: 0.8642\n",
            "Epoch 141/250\n",
            "1119/1119 [==============================] - 0s 101us/step - loss: 0.3136 - acc: 0.8642\n",
            "Epoch 142/250\n",
            "1119/1119 [==============================] - 0s 102us/step - loss: 0.3134 - acc: 0.8642\n",
            "Epoch 143/250\n",
            "1119/1119 [==============================] - 0s 102us/step - loss: 0.3149 - acc: 0.8633\n",
            "Epoch 144/250\n",
            "1119/1119 [==============================] - 0s 105us/step - loss: 0.3133 - acc: 0.8642\n",
            "Epoch 145/250\n",
            "1119/1119 [==============================] - 0s 105us/step - loss: 0.3138 - acc: 0.8660\n",
            "Epoch 146/250\n",
            "1119/1119 [==============================] - 0s 101us/step - loss: 0.3126 - acc: 0.8633\n",
            "Epoch 147/250\n",
            "1119/1119 [==============================] - 0s 101us/step - loss: 0.3137 - acc: 0.8668\n",
            "Epoch 148/250\n",
            "1119/1119 [==============================] - 0s 102us/step - loss: 0.3136 - acc: 0.8660\n",
            "Epoch 149/250\n",
            "1119/1119 [==============================] - 0s 99us/step - loss: 0.3118 - acc: 0.8624\n",
            "Epoch 150/250\n",
            "1119/1119 [==============================] - 0s 101us/step - loss: 0.3133 - acc: 0.8695\n",
            "Epoch 151/250\n",
            "1119/1119 [==============================] - 0s 103us/step - loss: 0.3113 - acc: 0.8668\n",
            "Epoch 152/250\n",
            "1119/1119 [==============================] - 0s 102us/step - loss: 0.3121 - acc: 0.8624\n",
            "Epoch 153/250\n",
            "1119/1119 [==============================] - 0s 101us/step - loss: 0.3131 - acc: 0.8624\n",
            "Epoch 154/250\n",
            "1119/1119 [==============================] - 0s 100us/step - loss: 0.3147 - acc: 0.8633\n",
            "Epoch 155/250\n",
            "1119/1119 [==============================] - 0s 105us/step - loss: 0.3135 - acc: 0.8660\n",
            "Epoch 156/250\n",
            "1119/1119 [==============================] - 0s 104us/step - loss: 0.3116 - acc: 0.8660\n",
            "Epoch 157/250\n",
            "1119/1119 [==============================] - 0s 103us/step - loss: 0.3126 - acc: 0.8624\n",
            "Epoch 158/250\n",
            "1119/1119 [==============================] - 0s 102us/step - loss: 0.3120 - acc: 0.8695\n",
            "Epoch 159/250\n",
            "1119/1119 [==============================] - 0s 102us/step - loss: 0.3111 - acc: 0.8668\n",
            "Epoch 160/250\n",
            "1119/1119 [==============================] - 0s 102us/step - loss: 0.3107 - acc: 0.8677\n",
            "Epoch 161/250\n",
            "1119/1119 [==============================] - 0s 119us/step - loss: 0.3112 - acc: 0.8651\n",
            "Epoch 162/250\n",
            "1119/1119 [==============================] - 0s 102us/step - loss: 0.3109 - acc: 0.8695\n",
            "Epoch 163/250\n",
            "1119/1119 [==============================] - 0s 101us/step - loss: 0.3113 - acc: 0.8660\n",
            "Epoch 164/250\n",
            "1119/1119 [==============================] - 0s 105us/step - loss: 0.3123 - acc: 0.8695\n",
            "Epoch 165/250\n",
            "1119/1119 [==============================] - 0s 103us/step - loss: 0.3116 - acc: 0.8660\n",
            "Epoch 166/250\n",
            "1119/1119 [==============================] - 0s 100us/step - loss: 0.3103 - acc: 0.8695\n",
            "Epoch 167/250\n",
            "1119/1119 [==============================] - 0s 104us/step - loss: 0.3108 - acc: 0.8660\n",
            "Epoch 168/250\n",
            "1119/1119 [==============================] - 0s 107us/step - loss: 0.3108 - acc: 0.8677\n",
            "Epoch 169/250\n",
            "1119/1119 [==============================] - 0s 104us/step - loss: 0.3122 - acc: 0.8660\n",
            "Epoch 170/250\n",
            "1119/1119 [==============================] - 0s 108us/step - loss: 0.3111 - acc: 0.8740\n",
            "Epoch 171/250\n",
            "1119/1119 [==============================] - 0s 101us/step - loss: 0.3098 - acc: 0.8660\n",
            "Epoch 172/250\n",
            "1119/1119 [==============================] - 0s 103us/step - loss: 0.3102 - acc: 0.8668\n",
            "Epoch 173/250\n",
            "1119/1119 [==============================] - 0s 104us/step - loss: 0.3112 - acc: 0.8686\n",
            "Epoch 174/250\n",
            "1119/1119 [==============================] - 0s 101us/step - loss: 0.3103 - acc: 0.8660\n",
            "Epoch 175/250\n",
            "1119/1119 [==============================] - 0s 103us/step - loss: 0.3091 - acc: 0.8704\n",
            "Epoch 176/250\n",
            "1119/1119 [==============================] - 0s 104us/step - loss: 0.3093 - acc: 0.8668\n",
            "Epoch 177/250\n",
            "1119/1119 [==============================] - 0s 103us/step - loss: 0.3108 - acc: 0.8686\n",
            "Epoch 178/250\n",
            "1119/1119 [==============================] - 0s 105us/step - loss: 0.3098 - acc: 0.8651\n",
            "Epoch 179/250\n",
            "1119/1119 [==============================] - 0s 103us/step - loss: 0.3098 - acc: 0.8668\n",
            "Epoch 180/250\n",
            "1119/1119 [==============================] - 0s 102us/step - loss: 0.3104 - acc: 0.8686\n",
            "Epoch 181/250\n",
            "1119/1119 [==============================] - 0s 104us/step - loss: 0.3094 - acc: 0.8713\n",
            "Epoch 182/250\n",
            "1119/1119 [==============================] - 0s 103us/step - loss: 0.3107 - acc: 0.8668\n",
            "Epoch 183/250\n",
            "1119/1119 [==============================] - 0s 103us/step - loss: 0.3088 - acc: 0.8695\n",
            "Epoch 184/250\n",
            "1119/1119 [==============================] - 0s 102us/step - loss: 0.3095 - acc: 0.8686\n",
            "Epoch 185/250\n",
            "1119/1119 [==============================] - 0s 103us/step - loss: 0.3076 - acc: 0.8651\n",
            "Epoch 186/250\n",
            "1119/1119 [==============================] - 0s 103us/step - loss: 0.3137 - acc: 0.8660\n",
            "Epoch 187/250\n",
            "1119/1119 [==============================] - 0s 103us/step - loss: 0.3096 - acc: 0.8668\n",
            "Epoch 188/250\n",
            "1119/1119 [==============================] - 0s 105us/step - loss: 0.3092 - acc: 0.8713\n",
            "Epoch 189/250\n",
            "1119/1119 [==============================] - 0s 102us/step - loss: 0.3100 - acc: 0.8660\n",
            "Epoch 190/250\n",
            "1119/1119 [==============================] - 0s 105us/step - loss: 0.3095 - acc: 0.8713\n",
            "Epoch 191/250\n",
            "1119/1119 [==============================] - 0s 104us/step - loss: 0.3076 - acc: 0.8713\n",
            "Epoch 192/250\n",
            "1119/1119 [==============================] - 0s 100us/step - loss: 0.3085 - acc: 0.8695\n",
            "Epoch 193/250\n",
            "1119/1119 [==============================] - 0s 102us/step - loss: 0.3091 - acc: 0.8713\n",
            "Epoch 194/250\n",
            "1119/1119 [==============================] - 0s 104us/step - loss: 0.3079 - acc: 0.8722\n",
            "Epoch 195/250\n",
            "1119/1119 [==============================] - 0s 103us/step - loss: 0.3073 - acc: 0.8677\n",
            "Epoch 196/250\n",
            "1119/1119 [==============================] - 0s 103us/step - loss: 0.3093 - acc: 0.8713\n",
            "Epoch 197/250\n",
            "1119/1119 [==============================] - 0s 107us/step - loss: 0.3089 - acc: 0.8695\n",
            "Epoch 198/250\n",
            "1119/1119 [==============================] - 0s 103us/step - loss: 0.3107 - acc: 0.8713\n",
            "Epoch 199/250\n",
            "1119/1119 [==============================] - 0s 100us/step - loss: 0.3087 - acc: 0.8749\n",
            "Epoch 200/250\n",
            "1119/1119 [==============================] - 0s 103us/step - loss: 0.3068 - acc: 0.8722\n",
            "Epoch 201/250\n",
            "1119/1119 [==============================] - 0s 101us/step - loss: 0.3068 - acc: 0.8713\n",
            "Epoch 202/250\n",
            "1119/1119 [==============================] - 0s 103us/step - loss: 0.3092 - acc: 0.8704\n",
            "Epoch 203/250\n",
            "1119/1119 [==============================] - 0s 104us/step - loss: 0.3074 - acc: 0.8677\n",
            "Epoch 204/250\n",
            "1119/1119 [==============================] - 0s 106us/step - loss: 0.3079 - acc: 0.8695\n",
            "Epoch 205/250\n",
            "1119/1119 [==============================] - 0s 106us/step - loss: 0.3106 - acc: 0.8695\n",
            "Epoch 206/250\n",
            "1119/1119 [==============================] - 0s 112us/step - loss: 0.3094 - acc: 0.8677\n",
            "Epoch 207/250\n",
            "1119/1119 [==============================] - 0s 105us/step - loss: 0.3089 - acc: 0.8677\n",
            "Epoch 208/250\n",
            "1119/1119 [==============================] - 0s 102us/step - loss: 0.3092 - acc: 0.8677\n",
            "Epoch 209/250\n",
            "1119/1119 [==============================] - 0s 105us/step - loss: 0.3075 - acc: 0.8704\n",
            "Epoch 210/250\n",
            "1119/1119 [==============================] - 0s 103us/step - loss: 0.3082 - acc: 0.8704\n",
            "Epoch 211/250\n",
            "1119/1119 [==============================] - 0s 103us/step - loss: 0.3076 - acc: 0.8704\n",
            "Epoch 212/250\n",
            "1119/1119 [==============================] - 0s 103us/step - loss: 0.3069 - acc: 0.8713\n",
            "Epoch 213/250\n",
            "1119/1119 [==============================] - 0s 105us/step - loss: 0.3085 - acc: 0.8633\n",
            "Epoch 214/250\n",
            "1119/1119 [==============================] - 0s 104us/step - loss: 0.3076 - acc: 0.8731\n",
            "Epoch 215/250\n",
            "1119/1119 [==============================] - 0s 103us/step - loss: 0.3089 - acc: 0.8758\n",
            "Epoch 216/250\n",
            "1119/1119 [==============================] - 0s 108us/step - loss: 0.3089 - acc: 0.8722\n",
            "Epoch 217/250\n",
            "1119/1119 [==============================] - 0s 103us/step - loss: 0.3064 - acc: 0.8713\n",
            "Epoch 218/250\n",
            "1119/1119 [==============================] - 0s 101us/step - loss: 0.3069 - acc: 0.8731\n",
            "Epoch 219/250\n",
            "1119/1119 [==============================] - 0s 104us/step - loss: 0.3090 - acc: 0.8695\n",
            "Epoch 220/250\n",
            "1119/1119 [==============================] - 0s 102us/step - loss: 0.3098 - acc: 0.8731\n",
            "Epoch 221/250\n",
            "1119/1119 [==============================] - 0s 107us/step - loss: 0.3056 - acc: 0.8731\n",
            "Epoch 222/250\n",
            "1119/1119 [==============================] - 0s 104us/step - loss: 0.3120 - acc: 0.8677\n",
            "Epoch 223/250\n",
            "1119/1119 [==============================] - 0s 108us/step - loss: 0.3082 - acc: 0.8695\n",
            "Epoch 224/250\n",
            "1119/1119 [==============================] - 0s 107us/step - loss: 0.3073 - acc: 0.8695\n",
            "Epoch 225/250\n",
            "1119/1119 [==============================] - 0s 103us/step - loss: 0.3068 - acc: 0.8713\n",
            "Epoch 226/250\n",
            "1119/1119 [==============================] - 0s 104us/step - loss: 0.3063 - acc: 0.8704\n",
            "Epoch 227/250\n",
            "1119/1119 [==============================] - 0s 107us/step - loss: 0.3056 - acc: 0.8704\n",
            "Epoch 228/250\n",
            "1119/1119 [==============================] - 0s 107us/step - loss: 0.3066 - acc: 0.8695\n",
            "Epoch 229/250\n",
            "1119/1119 [==============================] - 0s 108us/step - loss: 0.3077 - acc: 0.8713\n",
            "Epoch 230/250\n",
            "1119/1119 [==============================] - 0s 105us/step - loss: 0.3069 - acc: 0.8695\n",
            "Epoch 231/250\n",
            "1119/1119 [==============================] - 0s 104us/step - loss: 0.3077 - acc: 0.8695\n",
            "Epoch 232/250\n",
            "1119/1119 [==============================] - 0s 103us/step - loss: 0.3066 - acc: 0.8686\n",
            "Epoch 233/250\n",
            "1119/1119 [==============================] - 0s 105us/step - loss: 0.3058 - acc: 0.8695\n",
            "Epoch 234/250\n",
            "1119/1119 [==============================] - 0s 105us/step - loss: 0.3067 - acc: 0.8651\n",
            "Epoch 235/250\n",
            "1119/1119 [==============================] - 0s 106us/step - loss: 0.3063 - acc: 0.8677\n",
            "Epoch 236/250\n",
            "1119/1119 [==============================] - 0s 107us/step - loss: 0.3051 - acc: 0.8758\n",
            "Epoch 237/250\n",
            "1119/1119 [==============================] - 0s 104us/step - loss: 0.3052 - acc: 0.8668\n",
            "Epoch 238/250\n",
            "1119/1119 [==============================] - 0s 106us/step - loss: 0.3059 - acc: 0.8767\n",
            "Epoch 239/250\n",
            "1119/1119 [==============================] - 0s 110us/step - loss: 0.3055 - acc: 0.8749\n",
            "Epoch 240/250\n",
            "1119/1119 [==============================] - 0s 104us/step - loss: 0.3068 - acc: 0.8722\n",
            "Epoch 241/250\n",
            "1119/1119 [==============================] - 0s 103us/step - loss: 0.3059 - acc: 0.8704\n",
            "Epoch 242/250\n",
            "1119/1119 [==============================] - 0s 106us/step - loss: 0.3039 - acc: 0.8695\n",
            "Epoch 243/250\n",
            "1119/1119 [==============================] - 0s 103us/step - loss: 0.3057 - acc: 0.8713\n",
            "Epoch 244/250\n",
            "1119/1119 [==============================] - 0s 104us/step - loss: 0.3064 - acc: 0.8704\n",
            "Epoch 245/250\n",
            "1119/1119 [==============================] - 0s 107us/step - loss: 0.3047 - acc: 0.8713\n",
            "Epoch 246/250\n",
            "1119/1119 [==============================] - 0s 108us/step - loss: 0.3048 - acc: 0.8713\n",
            "Epoch 247/250\n",
            "1119/1119 [==============================] - 0s 104us/step - loss: 0.3022 - acc: 0.8713\n",
            "Epoch 248/250\n",
            "1119/1119 [==============================] - 0s 103us/step - loss: 0.3035 - acc: 0.8695\n",
            "Epoch 249/250\n",
            "1119/1119 [==============================] - 0s 120us/step - loss: 0.3043 - acc: 0.8677\n",
            "Epoch 250/250\n",
            "1119/1119 [==============================] - 0s 105us/step - loss: 0.3040 - acc: 0.8731\n"
          ],
          "name": "stdout"
        },
        {
          "output_type": "execute_result",
          "data": {
            "text/plain": [
              "<keras.callbacks.History at 0x7fc89ffbaa58>"
            ]
          },
          "metadata": {
            "tags": []
          },
          "execution_count": 74
        }
      ]
    },
    {
      "cell_type": "code",
      "metadata": {
        "id": "_NP_zEZn85Sz",
        "colab_type": "code",
        "colab": {
          "base_uri": "https://localhost:8080/",
          "height": 51
        },
        "outputId": "4d0e19a9-9671-455b-beb8-786ec9fd02a9"
      },
      "source": [
        "eval_model=classifier.evaluate(X_train, y_train)\n",
        "eval_model"
      ],
      "execution_count": 75,
      "outputs": [
        {
          "output_type": "stream",
          "text": [
            "1119/1119 [==============================] - 0s 74us/step\n"
          ],
          "name": "stdout"
        },
        {
          "output_type": "execute_result",
          "data": {
            "text/plain": [
              "[0.301380371280394, 0.8757819482745391]"
            ]
          },
          "metadata": {
            "tags": []
          },
          "execution_count": 75
        }
      ]
    },
    {
      "cell_type": "code",
      "metadata": {
        "id": "_g4M7gfP88pF",
        "colab_type": "code",
        "colab": {
          "base_uri": "https://localhost:8080/",
          "height": 68
        },
        "outputId": "e9446e05-5726-423e-a238-044506b66c4b"
      },
      "source": [
        "scores = classifier.evaluate(X_test, y_test)\n",
        "print(\"\\nAccuracy: %.2f%%\" % (scores[1]*100))\n",
        "\n"
      ],
      "execution_count": 76,
      "outputs": [
        {
          "output_type": "stream",
          "text": [
            "480/480 [==============================] - 0s 31us/step\n",
            "\n",
            "Accuracy: 85.42%\n"
          ],
          "name": "stdout"
        }
      ]
    },
    {
      "cell_type": "markdown",
      "metadata": {
        "id": "1N2cEtkb-iBF",
        "colab_type": "text"
      },
      "source": [
        "# CONCLUSION - \n",
        "\n",
        "\n",
        "Neural network for 3 categories ( poor, average and best)\n",
        "\n",
        "\n",
        "Accuracy for white wine dataset - 76.33% ( for 250 epochs)\n",
        "\n",
        "\n",
        "Accuracy for red wine dataset - 84.42% (for 250 epochs)\n",
        "\n"
      ]
    }
  ]
}